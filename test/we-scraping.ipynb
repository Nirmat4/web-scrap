{
 "cells": [
  {
   "cell_type": "code",
   "execution_count": 1,
   "id": "b0b3aa52",
   "metadata": {},
   "outputs": [],
   "source": [
    "from selenium import webdriver\n",
    "from selenium.webdriver.chrome.service import Service \n",
    "from selenium.webdriver.chrome.options import Options\n",
    "from selenium.webdriver.common.by import By\n",
    "from selenium.webdriver.support.ui import WebDriverWait\n",
    "from selenium.webdriver.support import expected_conditions as EC\n",
    "from selenium.webdriver.common.action_chains import ActionChains\n",
    "from selenium.common.exceptions import StaleElementReferenceException, TimeoutException, NoSuchElementException, ElementNotInteractableException, ElementClickInterceptedException\n",
    "import random\n",
    "import re\n",
    "import time\n",
    "from rich import print\n",
    "import requests\n",
    "chrome_driver_path=\"/usr/local/bin/chromedriver\""
   ]
  },
  {
   "cell_type": "code",
   "execution_count": 2,
   "id": "83eb064b",
   "metadata": {},
   "outputs": [],
   "source": [
    "# Aumentamos timeout de verificación de proxy\n",
    "def test_proxy(proxy_ip):\n",
    "    try:\n",
    "        # Verificamos contra un sitio real (no solo httpbin)\n",
    "        test_urls = [\n",
    "            \"https://www.google.com\",\n",
    "            \"https://www.autocompara.com\"\n",
    "        ]\n",
    "        for url in test_urls:\n",
    "            response = requests.get(\n",
    "                url,\n",
    "                proxies={\"http\": proxy_ip, \"https\": proxy_ip},\n",
    "                timeout=15  # Aumentamos timeout\n",
    "            )\n",
    "            if not response.ok:\n",
    "                return False\n",
    "        return True\n",
    "    except Exception:\n",
    "        return False\n",
    "\n",
    "def init_web(ip: str):\n",
    "    options = Options()\n",
    "    user_agent = \"Mozilla/5.0 (Windows NT 10.0; Win64; x64) AppleWebKit/537.36 (KHTML, like Gecko) Chrome/120.0.0.0 Safari/537.36\"\n",
    "    options.add_argument(f\"user-agent={user_agent}\")\n",
    "    options.add_argument(\"--disable-blink-features=AutomationControlled\")\n",
    "    options.add_experimental_option(\"excludeSwitches\", [\"enable-automation\", \"enable-logging\"])\n",
    "    options.add_argument(\"--no-sandbox\")\n",
    "    options.add_argument(\"--disable-dev-shm-usage\")\n",
    "    options.add_argument(\"--window-size=1366,768\")\n",
    "    \n",
    "    # Validación mejorada del proxy\n",
    "    if ip:\n",
    "        if test_proxy(ip):\n",
    "            options.add_argument(f\"--proxy-server={ip}\")\n",
    "            print(f\"[green]Proxy activo: {ip}[/]\")\n",
    "        else:\n",
    "            print(f\"[red]Proxy falló en pruebas: {ip}[/]\")\n",
    "            ip = None\n",
    "    if not ip:\n",
    "        print(\"[yellow]Usando conexión directa[/]\")\n",
    "\n",
    "    service = Service(executable_path=chrome_driver_path)\n",
    "    driver = webdriver.Chrome(service=service, options=options)\n",
    "    \n",
    "    # Ajustamos timeouts del navegador\n",
    "    driver.set_page_load_timeout(60)  # 60 segundos para carga\n",
    "    driver.set_script_timeout(30)     # 30 segundos para scripts\n",
    "    \n",
    "    driver.execute_cdp_cmd(\"Page.addScriptToEvaluateOnNewDocument\", {\n",
    "        \"source\": \"\"\"\n",
    "        Object.defineProperty(navigator, 'webdriver', {get: () => undefined});\n",
    "        window.chrome = {runtime: {}};\n",
    "        \"\"\"\n",
    "    })\n",
    "    \n",
    "    try:\n",
    "        # Intentamos conectar con timeout extendido\n",
    "        driver.get(\"https://www.autocompara.com\")\n",
    "        \n",
    "        # Espera adaptativa para desafíos de seguridad\n",
    "        WebDriverWait(driver, 30).until_not(\n",
    "            lambda d: any(\n",
    "                kw in d.title.lower() \n",
    "                for kw in [\"cloudflare\", \"security\", \"captcha\", \"access denied\"]\n",
    "            )\n",
    "        )\n",
    "    except TimeoutException:\n",
    "        print(\"[yellow]Advertencia: Tiempo de espera extendido alcanzado[/]\")\n",
    "    except Exception as e:\n",
    "        print(f\"[red]Error en navegación: {str(e)}[/]\")\n",
    "        driver.quit()\n",
    "        return None\n",
    "    \n",
    "    try:\n",
    "        # Intento más robusto para eliminar overlays\n",
    "        overlay_selectors = [\n",
    "            (By.ID, \"sec-overlay\"),\n",
    "            (By.CSS_SELECTOR, \"div.overlay, div.modal, div.security-layer\")\n",
    "        ]\n",
    "        for selector in overlay_selectors:\n",
    "            try:\n",
    "                WebDriverWait(driver, 5).until(EC.visibility_of_element_located(selector))\n",
    "                driver.execute_script(f\"document.querySelector('{selector[1]}').remove();\")\n",
    "            except:\n",
    "                continue\n",
    "    except Exception:\n",
    "        pass\n",
    "    \n",
    "    return driver"
   ]
  },
  {
   "cell_type": "code",
   "execution_count": 3,
   "id": "e1af479a",
   "metadata": {},
   "outputs": [],
   "source": [
    "\n",
    "def insert_year(driver, año: int):\n",
    "  try:\n",
    "    input_year=WebDriverWait(driver, 15).until(EC.element_to_be_clickable((By.ID, \"year\")))\n",
    "    time.sleep(0.5)\n",
    "    input_year.clear()\n",
    "    for char in str(año):\n",
    "      input_year.send_keys(char)\n",
    "      time.sleep(0.1)\n",
    "    print(f\"[bold cyan]año {año} insertado correctamente[/]\")\n",
    "    return True\n",
    "  except TimeoutException:\n",
    "    print(\"[bold red]tiempo de espera agotado, no se encontro el elemento con id 'year'[/]\")\n",
    "    return False\n",
    "  except NoSuchElementException:\n",
    "    print(\"[bold red]el elemento con id 'year' no existe en la pagina[/]\")\n",
    "    return False\n",
    "  except Exception as e:\n",
    "    print(f\"[bold red]error inesperado: {str(e)}[/]\")\n",
    "    return False"
   ]
  },
  {
   "cell_type": "code",
   "execution_count": 4,
   "id": "0615a888",
   "metadata": {},
   "outputs": [],
   "source": [
    "def insert_model(driver, texto: str):\n",
    "  try:\n",
    "    input_container=WebDriverWait(driver, 20).until(EC.element_to_be_clickable((By.CSS_SELECTOR, \"div.ng-input\")))\n",
    "\n",
    "    driver.execute_script(\n",
    "      \"\"\"arguments[0].scrollIntoView({\n",
    "        behavior: 'auto',\n",
    "        block: 'center',\n",
    "        inline: 'center'\n",
    "      });\"\"\",\n",
    "      input_container\n",
    "    )\n",
    "    time.sleep(0.5)\n",
    "\n",
    "    driver.execute_script(\"arguments[0].click();\", input_container)\n",
    "\n",
    "    input_field=WebDriverWait(driver, 5).until(\n",
    "      EC.element_to_be_clickable((By.CSS_SELECTOR, \"div.ng-input input\"))\n",
    "    )\n",
    "\n",
    "    value=texto.upper() \n",
    "    for char in texto:\n",
    "      input_field.send_keys(char)\n",
    "      time.sleep(random.uniform(0.1, 0.25))\n",
    "      current_value = input_field.get_attribute(\"value\").upper()\n",
    "      if char not in current_value:\n",
    "        raise ValueError(f\"Carácter '{char}' no detectado. Valor actual: {current_value}\")\n",
    "      \n",
    "    WebDriverWait(driver, 10).until(lambda d: texto in d.find_element(By.CSS_SELECTOR, \"div.ng-input input\").get_attribute(\"value\").upper())\n",
    "\n",
    "    print(f\"[bold cyan]busqueda exitosa para: {value}[/]\")\n",
    "    return True\n",
    "  \n",
    "  except Exception as e:\n",
    "    print(f\"[bold red]fallo en busqueda: {str(e)}\")\n",
    "    try:\n",
    "      driver.execute_script(\"\"\"\n",
    "        document.querySelector('ng-select#search').click();\n",
    "        document.querySelector('ng-select#search input').value = arguments[0];\n",
    "        document.querySelector('ng-select#search input').dispatchEvent(new Event('input'));\n",
    "      \"\"\", texto)\n",
    "      print(f\"[bold yellow]usando fallback JS para: {texto}[/]\")\n",
    "      return True\n",
    "    except:\n",
    "      return False"
   ]
  },
  {
   "cell_type": "code",
   "execution_count": 5,
   "id": "40d9f87d",
   "metadata": {},
   "outputs": [],
   "source": [
    "def select_model(driver, texto: str):\n",
    "  try:\n",
    "    WebDriverWait(driver, 15).until(EC.visibility_of_element_located((By.CSS_SELECTOR, \"ng-dropdown-panel[id^='a']\")))\n",
    "\n",
    "    options = driver.find_elements(By.CSS_SELECTOR, \"div.ng-option-child:not(.ng-optgroup)\")\n",
    "\n",
    "    find=False\n",
    "    for option in options:\n",
    "      try:\n",
    "        driver.execute_script(\"arguments[0].scrollIntoView({block: 'center'});\", option)\n",
    "        texto_option=option.find_element(By.CSS_SELECTOR, \"div.vehicle-data-home\").get_attribute(\"textContent\").strip()\n",
    "        if texto_option.lower()==texto.lower():\n",
    "          driver.execute_script(\"arguments[0].click();\", option)\n",
    "          print(f\"[bold cyan]opcion seleccionada: {texto_option}[/]\")\n",
    "          find=True\n",
    "          break\n",
    "      except Exception as e:\n",
    "        print(f\"[bold red]error durante iteracion de opciones: {str(e)}[/]\")\n",
    "        continue\n",
    "    if not find:\n",
    "      print(\"[bold yellow]Opción no encontrada, usando alternativa...[/]\")\n",
    "      options[0].click()\n",
    "    return True\n",
    "  except Exception as e:\n",
    "    print(f\"[bold red]error general: {str(e)}[/]\")\n",
    "    return False"
   ]
  },
  {
   "cell_type": "code",
   "execution_count": 6,
   "id": "f2c32124",
   "metadata": {},
   "outputs": [],
   "source": [
    "def seleccionar_opcion_alternativa(driver, texto: str):\n",
    "  try:\n",
    "    option=WebDriverWait(driver, 10).until(EC.element_to_be_clickable((\n",
    "      By.XPATH,\n",
    "      f\"//div[contains(@class, 'ng-option') and not(contains(@class, 'ng-optgroup'))]//div[contains(@class, 'vehicle-data-home') and normalize-space()='{texto}']/ancestor::div[contains(@class, 'ng-option')]\"\n",
    "    )))\n",
    "    driver.execute_script(\"arguments[0].scrollIntoView({behavior: 'smooth', block: 'center', inline: 'nearest'});\", option)\n",
    "    time.sleep(0.3)\n",
    "    driver.execute_script(\"arguments[0].click();\", option)\n",
    "    return True\n",
    "  except Exception as e:\n",
    "    print(f\"[bold red]error en metodo alternativo: {str(e)}[/]\")\n",
    "    return False"
   ]
  },
  {
   "cell_type": "code",
   "execution_count": 7,
   "id": "55f77889",
   "metadata": {},
   "outputs": [],
   "source": [
    "def click_continuar(driver):\n",
    "  try:\n",
    "    boton=WebDriverWait(driver, 15).until(EC.element_to_be_clickable((\n",
    "      By.XPATH, \n",
    "      \"//button[contains(@class, 'btn-gradient') and .//text()[contains(., 'Continuar')]]\"\n",
    "    )))\n",
    "    driver.execute_script(\"arguments[0].scrollIntoView({behavior: 'smooth', block: 'center'});\", boton)\n",
    "    driver.execute_script(\"arguments[0].click();\", boton)\n",
    "    print(\"[bold cyan]boton continuar clickeado exitosamente[/]\")\n",
    "    return True\n",
    "  except Exception as e:\n",
    "    print(f\"[bold red]error al hacer clic en continuar: {str(e)}[/]\")\n",
    "    return False"
   ]
  },
  {
   "cell_type": "code",
   "execution_count": 8,
   "id": "4c549da3",
   "metadata": {},
   "outputs": [],
   "source": [
    "def select_gender(driver, genero: str):\n",
    "  try:\n",
    "    selectores={\n",
    "      \"Hombre\": {\n",
    "        \"xpath\": \"//label[contains(@class, 'male') and normalize-space()='Hombre']\",\n",
    "        \"css\": \"label.male\"\n",
    "      },\n",
    "      \"Mujer\": {\n",
    "        \"xpath\": \"//label[contains(@class, 'female') and normalize-space()='Mujer']\",\n",
    "        \"css\": \"label.female\"\n",
    "      }\n",
    "    }\n",
    "    if genero not in selectores:\n",
    "      raise ValueError(f\"[bold purple]opcion invalida: {genero}. Use 'Hombre' o 'Mujer'[/]\")\n",
    "    elemento=WebDriverWait(driver, 10).until(EC.element_to_be_clickable((\n",
    "      By.XPATH, \n",
    "      selectores[genero][\"xpath\"]\n",
    "    )))\n",
    "    driver.execute_script(\"arguments[0].scrollIntoView({behavior: 'smooth', block: 'center'});\", elemento)\n",
    "    driver.execute_script(\"arguments[0].click();\", elemento)\n",
    "    input_radio=elemento.find_element(By.TAG_NAME, \"input\")\n",
    "    if input_radio.is_selected():\n",
    "      print(f\"[bold cyan]genero seleccionado correctamente {genero}[/]\")\n",
    "      return True\n",
    "    else:\n",
    "      print(f\"[bold red]error, el radio button no se marco[/]\")\n",
    "      return False\n",
    "  except Exception as e:\n",
    "    print(f\"[bold red]error seleccionando genero: {str(e)}[/]\")\n",
    "    try:\n",
    "      elemento=driver.find_element(By.CSS_SELECTOR, selectores[genero][\"css\"])\n",
    "      elemento.click()\n",
    "      return True\n",
    "    except:\n",
    "      print(\"[bold red]error con el selector en css[/]\")\n",
    "      return False"
   ]
  },
  {
   "cell_type": "code",
   "execution_count": 9,
   "id": "f708ad64",
   "metadata": {},
   "outputs": [],
   "source": [
    "def insert_date(driver, fecha: str):\n",
    "  try:\n",
    "    campo_fecha=WebDriverWait(driver, 10).until(EC.element_to_be_clickable((By.ID, \"date\")))\n",
    "    driver.execute_script(\"arguments[0].value = '';\", campo_fecha)\n",
    "    campo_fecha.clear()\n",
    "    time.sleep(0.5)\n",
    "    for i, char in enumerate(fecha):\n",
    "      campo_fecha.send_keys(char)\n",
    "      current_value=campo_fecha.get_attribute(\"value\")\n",
    "      if i in [2, 5]:\n",
    "        if len(current_value) <= i or current_value[i] != \"/\":\n",
    "          driver.save_screenshot(f\"error_formato_{i}.png\")\n",
    "          raise ValueError(f\"[bold red]Formato inválido en posición {i+1}\")\n",
    "      time.sleep(0.1)\n",
    "    WebDriverWait(driver, 5).until(lambda d: d.find_element(By.ID, \"date\").get_attribute(\"value\").replace(\"/\", \"\") == fecha.replace(\"/\", \"\"))\n",
    "    print(f\"[bold cyan]fecha ingresada correctamente {fecha}[/]\")\n",
    "    return True\n",
    "  except ElementNotInteractableException:\n",
    "    driver.execute_script(\n",
    "      \"\"\"\n",
    "      const input = document.getElementById('date');\n",
    "      input.value = arguments[0];\n",
    "      input.dispatchEvent(new Event('input', { bubbles: true }));\n",
    "      input.dispatchEvent(new Event('change', { bubbles: true }));\n",
    "      \"\"\",\n",
    "      fecha \n",
    "    )\n",
    "    print(f\"[bold purple]fecha ingresada mediante JavaScript[/]\")\n",
    "    return True\n",
    "  except Exception as e:\n",
    "    print(f\"[bold red]error ingresando fecha: {str(e)}\")\n",
    "    driver.save_screenshot(\"error_fecha.png\")\n",
    "    return False"
   ]
  },
  {
   "cell_type": "code",
   "execution_count": 10,
   "id": "974fc9de",
   "metadata": {},
   "outputs": [],
   "source": [
    "def insert_personal_data(driver, nombre: str, codigo_p: str, email: str, telefono: str):\n",
    "  try:\n",
    "    campos={\n",
    "      \"name\": {\n",
    "        \"valor\": nombre,\n",
    "        \"validacion\": lambda x: len(x.split()) >= 1\n",
    "      },\n",
    "      \"cp\": {\n",
    "        \"valor\": codigo_p,\n",
    "        \"validacion\": lambda x: x.isdigit() and len(x) == 5\n",
    "      },\n",
    "      \"email\": {\n",
    "        \"valor\": email,\n",
    "        \"validacion\": lambda x: re.match(r\"[^@]+@[^@]+\\.[^@]+\", x)\n",
    "      },\n",
    "      \"phone\": {\n",
    "        \"valor\": telefono,\n",
    "        \"validacion\": lambda x: x.isdigit() and len(x) in [10, 12]\n",
    "      }\n",
    "    }\n",
    "    for campo_id, config in campos.items():\n",
    "      if not config[\"validacion\"](config[\"valor\"]):\n",
    "        raise ValueError(f\"[bold red]formato invalido para {campo_id}: {config['valor']}\")\n",
    "      elemento=WebDriverWait(driver, 10).until(EC.element_to_be_clickable((By.ID, campo_id)))\n",
    "      elemento.clear()\n",
    "      for char in config[\"valor\"]:\n",
    "        elemento.send_keys(char)\n",
    "        time.sleep(0.05)\n",
    "    print(\"[bold cyan]todos los campos llenados correctamente\")\n",
    "    return True\n",
    "  except Exception as e:\n",
    "    print(f\"[bold red]error en llenado de datos: {str(e)}\")\n",
    "    driver.save_screenshot(\"error_datos_personales.png\")\n",
    "    return False"
   ]
  },
  {
   "cell_type": "code",
   "execution_count": 11,
   "id": "6a597b73",
   "metadata": {},
   "outputs": [],
   "source": [
    "def click_cotizar(driver):\n",
    "  try:\n",
    "    boton=WebDriverWait(driver, 25).until(EC.element_to_be_clickable((\n",
    "      By.XPATH, \n",
    "      \"//button[contains(@class, 'btn-gradient') and contains(., 'Cotizar')]\"\n",
    "    )))\n",
    "    driver.execute_script(\"arguments[0].scrollIntoView({behavior: 'smooth', block: 'center'});\", boton)\n",
    "    time.sleep(random.uniform(0.5, 1.5))\n",
    "    driver.execute_script(\"arguments[0].click();\", boton)\n",
    "    print(\"[bold cyan]click en cotizar realizado[/]\")\n",
    "    try:\n",
    "      WebDriverWait(driver, 40).until(lambda d: any([\n",
    "        len(d.find_element(By.CSS_SELECTOR, \"div.resultado-cotizacion\"))>0,\n",
    "        \"resultado\" in d.current_url,\n",
    "        d.execute_script(\"return document.readyState\")==\"complete\"\n",
    "      ]))\n",
    "    except:\n",
    "      time.sleep(10)\n",
    "      if \"cotizacion\" not in driver.current_url:\n",
    "        raise TimeoutError(\"[bold red] la pagina no termino de cargar[/]\")\n",
    "    \n",
    "    print(\"[bold cyan]pagina de resultados cargada exitosamente\")\n",
    "    return True\n",
    "  except Exception as e:\n",
    "    print(f\"[bold red]error final: {str(e)}[/]\")\n",
    "    print(\"[bold purple]estado actual:[/]\")\n",
    "    print(f\"[bold purple]- URL: {driver.current_url}[/]\")\n",
    "    print(f\"[bold purple]- titulo: {driver.title}[/]\")\n",
    "    print(f\"[bold purple]- ReadyState: {driver.execute_script('return document.readyState')}[/]\")\n",
    "    driver.save_screenshot(\"error_final.png\")\n",
    "    return False"
   ]
  },
  {
   "cell_type": "code",
   "execution_count": 12,
   "id": "f09396e2",
   "metadata": {},
   "outputs": [],
   "source": [
    "def abrir_modal_coberturas(driver):\n",
    "  try:\n",
    "    WebDriverWait(driver, 15).until(\n",
    "        lambda d: d.execute_script(\"return document.readyState\") == \"complete\"\n",
    "    )\n",
    "    boton_selector = (\n",
    "        \"button.btn.btn-lnk.details[acgtmevent][category='compara_y_elige'][action='informacion_seguros']\"\n",
    "    )\n",
    "    boton = WebDriverWait(driver, 20).until(\n",
    "        EC.presence_of_element_located((By.CSS_SELECTOR, boton_selector)))\n",
    "    driver.execute_script(\n",
    "        \"arguments[0].scrollIntoView({behavior: 'auto', block: 'center', inline: 'center'});\"\n",
    "        \"window.scrollBy(0, -window.innerHeight * 0.1);\", \n",
    "        boton\n",
    "    )\n",
    "    time.sleep(random.uniform(0.3, 0.7))\n",
    "    try:\n",
    "        ActionChains(driver)\\\n",
    "            .move_to_element_with_offset(boton, 5, 5)\\\n",
    "            .pause(random.uniform(0.1, 0.3))\\\n",
    "            .click()\\\n",
    "            .perform()\n",
    "    except:\n",
    "        driver.execute_script(\"arguments[0].click();\", boton)\n",
    "    WebDriverWait(driver, 15).until(\n",
    "        EC.visibility_of_element_located((By.CSS_SELECTOR, \"div.modal-content\"))\n",
    "    )\n",
    "    WebDriverWait(driver, 10).until(\n",
    "        lambda d: \"coberturas\" in d.page_source.lower()\n",
    "    )\n",
    "    print(\"[bold green]Modal de coberturas abierto correctamente[/]\")\n",
    "    return True\n",
    "  except TimeoutException:\n",
    "    print(\"[bold red]Tiempo de espera excedido para el modal[/]\")\n",
    "    driver.save_screenshot(\"error_modal_timeout.png\")\n",
    "    return False\n",
    "      \n",
    "  except Exception as e:\n",
    "    print(f\"[bold red]Error abriendo modal: {str(e)}[/]\")\n",
    "    driver.save_screenshot(\"error_modal_general.png\")\n",
    "    try:\n",
    "        driver.execute_script(\"\"\"\n",
    "            const modals = document.querySelectorAll('div.modal-backdrop');\n",
    "            modals.forEach(modal => modal.remove());\n",
    "            document.body.classList.remove('modal-open');\n",
    "        \"\"\")\n",
    "    except:\n",
    "        pass\n",
    "    \n",
    "    return False"
   ]
  },
  {
   "cell_type": "code",
   "execution_count": 13,
   "id": "80c50310",
   "metadata": {},
   "outputs": [],
   "source": [
    "def interactuar_ng_select(driver, intentos=3):\n",
    "    try:\n",
    "        selector_ng_select = \"ng-select[name='insuaranse'].custom\"\n",
    "        ng_select = WebDriverWait(driver, 15).until(\n",
    "            EC.presence_of_element_located((By.CSS_SELECTOR, selector_ng_select))\n",
    "        )\n",
    "        trigger_selector = \"div.ng-input[role='combobox']\"\n",
    "        trigger = ng_select.find_element(By.CSS_SELECTOR, trigger_selector)\n",
    "        driver.execute_script(\"\"\"\n",
    "            const element = arguments[0];\n",
    "            const header = document.querySelector('header') || { offsetHeight: 0 };\n",
    "            const yOffset = -header.offsetHeight * 0.15;\n",
    "            \n",
    "            element.scrollIntoView({\n",
    "                behavior: 'auto',\n",
    "                block: 'center',\n",
    "                inline: 'nearest'\n",
    "            });\n",
    "            \n",
    "            window.scrollBy(0, yOffset);\n",
    "        \"\"\", trigger)\n",
    "        for intento in range(intentos):\n",
    "            try:\n",
    "                ActionChains(driver)\\\n",
    "                    .move_to_element_with_offset(trigger, 5, 5)\\\n",
    "                    .pause(0.25)\\\n",
    "                    .click()\\\n",
    "                    .pause(0.5)\\\n",
    "                    .perform()\n",
    "                if trigger.get_attribute(\"aria-expanded\") == \"true\":\n",
    "                    print(\"[green]Dropdown desplegado[/]\")\n",
    "                    return True\n",
    "                if \"ng-select-opened\" in ng_select.get_attribute(\"class\"):\n",
    "                    print(\"[green]Dropdown abierto (verificación por clase)[/]\")\n",
    "                    return True\n",
    "                print(f\"[yellow]Intento {intento + 1} - Dropdown no se abrió[/]\")\n",
    "            except StaleElementReferenceException:\n",
    "                print(\"[yellow]Elemento obsoleto, reintentando...[/]\")\n",
    "                trigger = ng_select.find_element(By.CSS_SELECTOR, trigger_selector)\n",
    "                continue\n",
    "        panel_selector = \"ng-dropdown-panel.custom\"\n",
    "        if EC.visibility_of_element_located((By.CSS_SELECTOR, panel_selector))(driver):\n",
    "            print(\"[green]panel detectado post-intentos[/]\")\n",
    "            return True\n",
    "        raise Exception(\"No se pudo desplegar el dropdown después de 3 intentos\")\n",
    "    except Exception as e:\n",
    "        print(f\"[red]Error crítico: {str(e)}[/]\")\n",
    "        driver.save_screenshot(\"error_ng_select.png\")\n",
    "        return False"
   ]
  },
  {
   "cell_type": "code",
   "execution_count": 14,
   "id": "2c0eca72",
   "metadata": {},
   "outputs": [],
   "source": [
    "def obtener_opciones_completas(driver):\n",
    "    try:\n",
    "        panel_selector = \"ng-dropdown-panel.custom\"\n",
    "        panel = WebDriverWait(driver, 10).until(\n",
    "            EC.visibility_of_element_located((By.CSS_SELECTOR, panel_selector)))\n",
    "        opciones = panel.find_elements(By.CSS_SELECTOR, \"div.ng-option[id]\")\n",
    "        opciones_data = []\n",
    "        for opcion in opciones:\n",
    "            try:\n",
    "                opcion_id = opcion.get_attribute(\"id\")\n",
    "                nombre = opcion.find_element(By.CSS_SELECTOR, \"span.ng-option-label\").text.strip()\n",
    "                if opcion_id and \"-\" in opcion_id and nombre:\n",
    "                    opciones_data.append((opcion_id, nombre))\n",
    "                    \n",
    "            except Exception as e:\n",
    "                print(f\"[yellow]Error en opción: {str(e)}[/]\")\n",
    "                continue\n",
    "        \n",
    "        print(f\"[green]{len(opciones_data)} opciones encontradas[/]\")\n",
    "        \n",
    "        return opciones_data\n",
    "    \n",
    "    except Exception as e:\n",
    "        print(f\"[red]Error general: {str(e)}[/]\")\n",
    "        driver.save_screenshot(\"error_opciones_completas.png\")\n",
    "        return []"
   ]
  },
  {
   "cell_type": "code",
   "execution_count": 15,
   "id": "46a4e432",
   "metadata": {},
   "outputs": [],
   "source": [
    "def seleccionar_opcion_por_id(driver, option_id: str):\n",
    "    try:\n",
    "        print(f\"[bold cyan]Procesando opción ID: {option_id}[/]\")\n",
    "        partial_id = option_id.split(\"-\")[-1]\n",
    "        panel_selector = \"ng-dropdown-panel.custom\"\n",
    "        for _ in range(2):\n",
    "            try:\n",
    "                WebDriverWait(driver, 5).until(EC.visibility_of_element_located((By.CSS_SELECTOR, panel_selector)))\n",
    "                break\n",
    "            except:\n",
    "                print(\"[yellow]Reabriendo dropdown...[/]\")\n",
    "                if not interactuar_ng_select(driver):\n",
    "                    raise Exception(\"No se pudo reabrir el dropdown\")\n",
    "        xpath_selector = f\"//div[@role='option' and substring(@id, string-length(@id) - {len(partial_id)} + 1) = '{partial_id}']\"\n",
    "        opcion = WebDriverWait(driver, 10).until(\n",
    "            EC.element_to_be_clickable((By.XPATH, xpath_selector))\n",
    "        )\n",
    "        ActionChains(driver)\\\n",
    "            .move_to_element(opcion)\\\n",
    "            .perform()\n",
    "        \n",
    "        time.sleep(0.2)\n",
    "        for intento in range(3):\n",
    "            try:\n",
    "                driver.execute_script(\"arguments[0].scrollIntoViewIfNeeded()\", opcion)\n",
    "                opcion.click()\n",
    "                WebDriverWait(driver, 2).until(\n",
    "                    EC.invisibility_of_element_located((By.CSS_SELECTOR, panel_selector))\n",
    "                )\n",
    "                print(f\"[green]Selección confirmada: {option_id}[/]\")\n",
    "                return True\n",
    "            except StaleElementReferenceException:\n",
    "                print(f\"[yellow]Reintento {intento+1} - Actualizando referencia...[/]\")\n",
    "                opcion = WebDriverWait(driver, 5).until(\n",
    "                    EC.element_to_be_clickable((By.XPATH, xpath_selector))\n",
    "                )\n",
    "            except Exception as e:\n",
    "                print(f\"[yellow]Error en intento {intento+1}: {str(e)}[/]\")\n",
    "                driver.execute_script(\"arguments[0].click()\", opcion)\n",
    "        raise Exception(\"Máximo de reintentos alcanzado\")\n",
    "    except Exception as e:\n",
    "        print(f\"[red]Fallo en {option_id}: {str(e)}[/]\")\n",
    "        driver.save_screenshot(f\"error_{option_id.replace('-', '_')}.png\")\n",
    "        return False"
   ]
  },
  {
   "cell_type": "code",
   "execution_count": 16,
   "id": "11d28e5e",
   "metadata": {},
   "outputs": [],
   "source": [
    "import re\n",
    "def obtener_precio_anual(driver) -> str:\n",
    "    try:\n",
    "        xpath_selector = (\n",
    "            \".//p[contains(@class, 'value') \"\n",
    "            \"and not(*[not(self::text())]) \"\n",
    "            \"and contains(., '$')]\"\n",
    "        )\n",
    "        precios = WebDriverWait(driver, 15).until(\n",
    "            lambda d: [\n",
    "                p for p in d.find_elements(By.XPATH, xpath_selector)\n",
    "                if p.is_displayed() \n",
    "                and not {'valueB'}.intersection(p.get_attribute(\"class\").split())\n",
    "                and re.search(r\"\\$\\s*\\d\", p.text)\n",
    "            ]\n",
    "        )\n",
    "        elemento_correcto = None\n",
    "        for p in precios:\n",
    "            classes = p.get_attribute(\"class\").split()\n",
    "            if 'valueA' in classes:\n",
    "                elemento_correcto = p\n",
    "                break\n",
    "            if 'value' in classes and not {'valueA', 'valueB'}.intersection(classes):\n",
    "                elemento_correcto = p\n",
    "                break\n",
    "        if not elemento_correcto:\n",
    "            elemento_correcto = precios[0] if precios else None\n",
    "            print(\"[yellow]Usando fallback de precio[/]\")\n",
    "        if not elemento_correcto or elemento_correcto.find_elements(By.XPATH, \"./*\"):\n",
    "            raise ValueError(\"Estructura de precio inválida\")\n",
    "        precio_texto = elemento_correcto.text\n",
    "        match = re.search(\n",
    "            r\"\"\"\n",
    "            \\$\n",
    "            \\s*\n",
    "            (\n",
    "                \\d{1,3}\n",
    "                (?:,\\d{3})*\n",
    "                (?:\\.\\d{2})?\n",
    "            )\n",
    "            \"\"\", \n",
    "            precio_texto, \n",
    "            re.VERBOSE\n",
    "        )\n",
    "        if not match:\n",
    "            raise ValueError(f\"Formato numérico inválido: {precio_texto}\")\n",
    "        precio_limpio = match.group(1).replace(\",\", \"\")\n",
    "        precio_final = float(precio_limpio)\n",
    "        \n",
    "        return f\"{precio_final:.2f}\"\n",
    "    except Exception as e:\n",
    "        print(f\"[red]Error crítico: {str(e)}[/]\")\n",
    "        driver.save_screenshot(\"error_precio_estricto.png\")\n",
    "        return None"
   ]
  },
  {
   "cell_type": "code",
   "execution_count": 17,
   "id": "0f5e685b",
   "metadata": {},
   "outputs": [],
   "source": [
    "def expandir_todos_elementos(driver, timeout=20, pause_between=0.5, retry_attempts=3):\n",
    "    xpath_icono = (\n",
    "        \"//div[contains(@class, 'row-down-propertie')]\"\n",
    "        \"//em[contains(@class, 'icon-angle-down-af')]\"\n",
    "        \"/ancestor::div[contains(@class, 'row-down-propertie')]\"\n",
    "    )\n",
    "    try:\n",
    "        elementos = WebDriverWait(driver, timeout).until(\n",
    "            EC.presence_of_all_elements_located((By.XPATH, xpath_icono))\n",
    "        )\n",
    "    except TimeoutException:\n",
    "        print(\"[yellow]No se encontraron elementos para expandir.[/]\")\n",
    "        return False\n",
    "    total = len(elementos)\n",
    "    print(f\"[cyan]Encontrados {total} elementos colapsados.[/]\")\n",
    "    for index in range(total):\n",
    "        for attempt in range(1, retry_attempts + 1):\n",
    "            try:\n",
    "                elementos = driver.find_elements(By.XPATH, xpath_icono)\n",
    "                if index >= len(elementos):\n",
    "                    break\n",
    "                boton = elementos[index]\n",
    "                driver.execute_script(\n",
    "                    \"const header = document.querySelector('header') || { offsetHeight: 0 };\"\n",
    "                    \"arguments[0].scrollIntoView({behavior: 'auto', block: 'center'});\"\n",
    "                    \"window.scrollBy(0, -header.offsetHeight);\",\n",
    "                    boton\n",
    "                )\n",
    "                WebDriverWait(driver, timeout).until(\n",
    "                    EC.element_to_be_clickable((By.XPATH, xpath_icono))\n",
    "                )\n",
    "                ActionChains(driver).move_to_element(boton).pause(pause_between).click().perform()\n",
    "                time.sleep(pause_between)\n",
    "                break\n",
    "            except (StaleElementReferenceException, ElementClickInterceptedException, TimeoutException) as e:\n",
    "                if attempt < retry_attempts:\n",
    "                    print(f\"[yellow]Reintentando elemento {index+1}, intento {attempt}/{retry_attempts}...[/]\")\n",
    "                    time.sleep(pause_between)\n",
    "                    continue\n",
    "                else:\n",
    "                    print(f\"[red]No se pudo expandir el elemento {index+1} tras {retry_attempts} intentos: {e}[/]\")\n",
    "    print(f\"[bold green]Proceso completado: {total} intentos realizados.[/]\")\n",
    "    return True"
   ]
  },
  {
   "cell_type": "code",
   "execution_count": 18,
   "id": "8ecd7809",
   "metadata": {},
   "outputs": [],
   "source": [
    "def extraer_danios_materiales_2(driver):\n",
    "    try:\n",
    "        contenedor_principal = WebDriverWait(driver, 20).until(\n",
    "            EC.presence_of_element_located((By.ID, \"card-1\"))\n",
    "        )\n",
    "        seccion_coberturas = WebDriverWait(contenedor_principal, 10).until(\n",
    "            lambda d: d.find_element(\n",
    "                By.XPATH,\n",
    "                \".//p[@class='subtitle mb-0' and contains(text(), 'Coberturas')]/ancestor::div[contains(@class, 'cont-servicios')]\"\n",
    "            )\n",
    "        )\n",
    "        coberturas = seccion_coberturas.find_elements(\n",
    "            By.XPATH,\n",
    "            \".//div[contains(@class, 'centrado')]/p[@class='description']\"\n",
    "        )\n",
    "        lista_coberturas = []\n",
    "        for elemento in coberturas:\n",
    "            texto = elemento.text.strip()\n",
    "            if texto and texto not in lista_coberturas:\n",
    "                lista_coberturas.append(texto)\n",
    "        return lista_coberturas\n",
    "    \n",
    "    except Exception as e:\n",
    "        print(f\"[red]Error extrayendo coberturas: {str(e)}[/]\")\n",
    "        driver.save_screenshot(\"error_coberturas.png\")\n",
    "        return []"
   ]
  },
  {
   "cell_type": "code",
   "execution_count": 19,
   "id": "52a54cfd",
   "metadata": {},
   "outputs": [],
   "source": [
    "import uuid\n",
    "\n",
    "def extract_informacion(driver, aseguradoras):\n",
    "  id_data=str(uuid.uuid4())\n",
    "  total_data={}\n",
    "  for i, elemento in enumerate(aseguradoras):\n",
    "    if i!=0:\n",
    "      interactuar_ng_select(driver)\n",
    "      seleccionar_opcion_por_id(driver, elemento[0])\n",
    "    precio=obtener_precio_anual(driver)\n",
    "    expandir_todos_elementos(driver)\n",
    "    data=extraer_danios_materiales_2(driver)\n",
    "    total_data[elemento[1]]={\n",
    "      \"precio\": precio,\n",
    "      \"daños_materiales\": data,\n",
    "    }\n",
    "\n",
    "  return {f\"{id_data}\": total_data}"
   ]
  },
  {
   "cell_type": "code",
   "execution_count": 20,
   "id": "6cc3496d",
   "metadata": {},
   "outputs": [
    {
     "data": {
      "text/html": [
       "<pre style=\"white-space:pre;overflow-x:auto;line-height:normal;font-family:Menlo,'DejaVu Sans Mono',consolas,'Courier New',monospace\"><span style=\"color: #800000; text-decoration-color: #800000\">Proxy falló en pruebas: </span><span style=\"color: #800000; text-decoration-color: #800000; font-weight: bold\">132.148.21.113</span><span style=\"color: #800000; text-decoration-color: #800000\">:</span><span style=\"color: #800000; text-decoration-color: #800000; font-weight: bold\">27593</span>\n",
       "</pre>\n"
      ],
      "text/plain": [
       "\u001b[31mProxy falló en pruebas: \u001b[0m\u001b[1;31m132.148.21.113\u001b[0m\u001b[31m:\u001b[0m\u001b[1;31m27593\u001b[0m\n"
      ]
     },
     "metadata": {},
     "output_type": "display_data"
    },
    {
     "data": {
      "text/html": [
       "<pre style=\"white-space:pre;overflow-x:auto;line-height:normal;font-family:Menlo,'DejaVu Sans Mono',consolas,'Courier New',monospace\"><span style=\"color: #808000; text-decoration-color: #808000\">Usando conexión directa</span>\n",
       "</pre>\n"
      ],
      "text/plain": [
       "\u001b[33mUsando conexión directa\u001b[0m\n"
      ]
     },
     "metadata": {},
     "output_type": "display_data"
    }
   ],
   "source": [
    "ip=\"132.148.21.113:27593\"\n",
    "driver=init_web(ip)"
   ]
  },
  {
   "cell_type": "code",
   "execution_count": 21,
   "id": "1b6f3516",
   "metadata": {},
   "outputs": [
    {
     "data": {
      "text/html": [
       "<pre style=\"white-space:pre;overflow-x:auto;line-height:normal;font-family:Menlo,'DejaVu Sans Mono',consolas,'Courier New',monospace\"><span style=\"color: #008080; text-decoration-color: #008080; font-weight: bold\">año </span><span style=\"color: #008080; text-decoration-color: #008080; font-weight: bold\">2015</span><span style=\"color: #008080; text-decoration-color: #008080; font-weight: bold\"> insertado correctamente</span>\n",
       "</pre>\n"
      ],
      "text/plain": [
       "\u001b[1;36maño \u001b[0m\u001b[1;36m2015\u001b[0m\u001b[1;36m insertado correctamente\u001b[0m\n"
      ]
     },
     "metadata": {},
     "output_type": "display_data"
    },
    {
     "data": {
      "text/html": [
       "<pre style=\"white-space:pre;overflow-x:auto;line-height:normal;font-family:Menlo,'DejaVu Sans Mono',consolas,'Courier New',monospace\"><span style=\"color: #800000; text-decoration-color: #800000; font-weight: bold\">fallo en busqueda: Message: </span>\n",
       "\n",
       "</pre>\n"
      ],
      "text/plain": [
       "\u001b[1;31mfallo en busqueda: Message: \u001b[0m\n",
       "\n"
      ]
     },
     "metadata": {},
     "output_type": "display_data"
    },
    {
     "data": {
      "text/html": [
       "<pre style=\"white-space:pre;overflow-x:auto;line-height:normal;font-family:Menlo,'DejaVu Sans Mono',consolas,'Courier New',monospace\"><span style=\"color: #808000; text-decoration-color: #808000; font-weight: bold\">usando fallback JS para: AVEO LS A STD </span><span style=\"color: #808000; text-decoration-color: #808000; font-weight: bold\">1.</span><span style=\"color: #808000; text-decoration-color: #808000; font-weight: bold\">6L 4CIL 4PTAS</span>\n",
       "</pre>\n"
      ],
      "text/plain": [
       "\u001b[1;33musando fallback JS para: AVEO LS A STD \u001b[0m\u001b[1;33m1.\u001b[0m\u001b[1;33m6L 4CIL 4PTAS\u001b[0m\n"
      ]
     },
     "metadata": {},
     "output_type": "display_data"
    },
    {
     "data": {
      "text/html": [
       "<pre style=\"white-space:pre;overflow-x:auto;line-height:normal;font-family:Menlo,'DejaVu Sans Mono',consolas,'Courier New',monospace\"><span style=\"color: #008080; text-decoration-color: #008080; font-weight: bold\">opcion seleccionada: Aveo Ls A Std </span><span style=\"color: #008080; text-decoration-color: #008080; font-weight: bold\">1.</span><span style=\"color: #008080; text-decoration-color: #008080; font-weight: bold\">6l 4cil 4ptas</span>\n",
       "</pre>\n"
      ],
      "text/plain": [
       "\u001b[1;36mopcion seleccionada: Aveo Ls A Std \u001b[0m\u001b[1;36m1.\u001b[0m\u001b[1;36m6l 4cil 4ptas\u001b[0m\n"
      ]
     },
     "metadata": {},
     "output_type": "display_data"
    },
    {
     "data": {
      "text/html": [
       "<pre style=\"white-space:pre;overflow-x:auto;line-height:normal;font-family:Menlo,'DejaVu Sans Mono',consolas,'Courier New',monospace\"><span style=\"color: #008080; text-decoration-color: #008080; font-weight: bold\">boton continuar clickeado exitosamente</span>\n",
       "</pre>\n"
      ],
      "text/plain": [
       "\u001b[1;36mboton continuar clickeado exitosamente\u001b[0m\n"
      ]
     },
     "metadata": {},
     "output_type": "display_data"
    },
    {
     "data": {
      "text/plain": [
       "True"
      ]
     },
     "execution_count": 21,
     "metadata": {},
     "output_type": "execute_result"
    }
   ],
   "source": [
    "insert_year(driver, 2015)\n",
    "insert_model(driver, \"AVEO LS A STD 1.6L 4CIL 4PTAS\")\n",
    "select_model(driver, \"AVEO LS A STD 1.6L 4CIL 4PTAS\")\n",
    "click_continuar(driver)"
   ]
  },
  {
   "cell_type": "code",
   "execution_count": 22,
   "id": "f947361b",
   "metadata": {},
   "outputs": [
    {
     "data": {
      "text/html": [
       "<pre style=\"white-space:pre;overflow-x:auto;line-height:normal;font-family:Menlo,'DejaVu Sans Mono',consolas,'Courier New',monospace\"><span style=\"color: #008080; text-decoration-color: #008080; font-weight: bold\">genero seleccionado correctamente Hombre</span>\n",
       "</pre>\n"
      ],
      "text/plain": [
       "\u001b[1;36mgenero seleccionado correctamente Hombre\u001b[0m\n"
      ]
     },
     "metadata": {},
     "output_type": "display_data"
    },
    {
     "data": {
      "text/html": [
       "<pre style=\"white-space:pre;overflow-x:auto;line-height:normal;font-family:Menlo,'DejaVu Sans Mono',consolas,'Courier New',monospace\"><span style=\"color: #008080; text-decoration-color: #008080; font-weight: bold\">fecha ingresada correctamente </span><span style=\"color: #008080; text-decoration-color: #008080; font-weight: bold\">16072002</span>\n",
       "</pre>\n"
      ],
      "text/plain": [
       "\u001b[1;36mfecha ingresada correctamente \u001b[0m\u001b[1;36m16072002\u001b[0m\n"
      ]
     },
     "metadata": {},
     "output_type": "display_data"
    },
    {
     "data": {
      "text/html": [
       "<pre style=\"white-space:pre;overflow-x:auto;line-height:normal;font-family:Menlo,'DejaVu Sans Mono',consolas,'Courier New',monospace\"><span style=\"color: #008080; text-decoration-color: #008080; font-weight: bold\">todos los campos llenados correctamente</span>\n",
       "</pre>\n"
      ],
      "text/plain": [
       "\u001b[1;36mtodos los campos llenados correctamente\u001b[0m\n"
      ]
     },
     "metadata": {},
     "output_type": "display_data"
    },
    {
     "data": {
      "text/html": [
       "<pre style=\"white-space:pre;overflow-x:auto;line-height:normal;font-family:Menlo,'DejaVu Sans Mono',consolas,'Courier New',monospace\"><span style=\"color: #008080; text-decoration-color: #008080; font-weight: bold\">click en cotizar realizado</span>\n",
       "</pre>\n"
      ],
      "text/plain": [
       "\u001b[1;36mclick en cotizar realizado\u001b[0m\n"
      ]
     },
     "metadata": {},
     "output_type": "display_data"
    },
    {
     "data": {
      "text/html": [
       "<pre style=\"white-space:pre;overflow-x:auto;line-height:normal;font-family:Menlo,'DejaVu Sans Mono',consolas,'Courier New',monospace\"><span style=\"color: #008080; text-decoration-color: #008080; font-weight: bold\">pagina de resultados cargada exitosamente</span>\n",
       "</pre>\n"
      ],
      "text/plain": [
       "\u001b[1;36mpagina de resultados cargada exitosamente\u001b[0m\n"
      ]
     },
     "metadata": {},
     "output_type": "display_data"
    },
    {
     "data": {
      "text/plain": [
       "True"
      ]
     },
     "execution_count": 22,
     "metadata": {},
     "output_type": "execute_result"
    }
   ],
   "source": [
    "select_gender(driver,\"Hombre\")\n",
    "insert_date(driver, \"16072002\")\n",
    "insert_personal_data(driver, \"Emilio\", \"52977\", \"foyagev912@ofular.com\", \"524385654784\")\n",
    "click_cotizar(driver)"
   ]
  },
  {
   "cell_type": "code",
   "execution_count": 23,
   "id": "32d8a097",
   "metadata": {},
   "outputs": [
    {
     "data": {
      "text/html": [
       "<pre style=\"white-space:pre;overflow-x:auto;line-height:normal;font-family:Menlo,'DejaVu Sans Mono',consolas,'Courier New',monospace\"><span style=\"color: #008000; text-decoration-color: #008000; font-weight: bold\">Modal de coberturas abierto correctamente</span>\n",
       "</pre>\n"
      ],
      "text/plain": [
       "\u001b[1;32mModal de coberturas abierto correctamente\u001b[0m\n"
      ]
     },
     "metadata": {},
     "output_type": "display_data"
    },
    {
     "data": {
      "text/html": [
       "<pre style=\"white-space:pre;overflow-x:auto;line-height:normal;font-family:Menlo,'DejaVu Sans Mono',consolas,'Courier New',monospace\"><span style=\"color: #008000; text-decoration-color: #008000\">Dropdown desplegado</span>\n",
       "</pre>\n"
      ],
      "text/plain": [
       "\u001b[32mDropdown desplegado\u001b[0m\n"
      ]
     },
     "metadata": {},
     "output_type": "display_data"
    },
    {
     "data": {
      "text/html": [
       "<pre style=\"white-space:pre;overflow-x:auto;line-height:normal;font-family:Menlo,'DejaVu Sans Mono',consolas,'Courier New',monospace\"><span style=\"color: #008000; text-decoration-color: #008000; font-weight: bold\">11</span><span style=\"color: #008000; text-decoration-color: #008000\"> opciones encontradas</span>\n",
       "</pre>\n"
      ],
      "text/plain": [
       "\u001b[1;32m11\u001b[0m\u001b[32m opciones encontradas\u001b[0m\n"
      ]
     },
     "metadata": {},
     "output_type": "display_data"
    },
    {
     "data": {
      "text/html": [
       "<pre style=\"white-space:pre;overflow-x:auto;line-height:normal;font-family:Menlo,'DejaVu Sans Mono',consolas,'Courier New',monospace\"><span style=\"font-weight: bold\">[</span>\n",
       "    <span style=\"font-weight: bold\">(</span><span style=\"color: #008000; text-decoration-color: #008000\">'af064f355456-0'</span>, <span style=\"color: #008000; text-decoration-color: #008000\">'CHUBB'</span><span style=\"font-weight: bold\">)</span>,\n",
       "    <span style=\"font-weight: bold\">(</span><span style=\"color: #008000; text-decoration-color: #008000\">'af064f355456-1'</span>, <span style=\"color: #008000; text-decoration-color: #008000\">'HDI'</span><span style=\"font-weight: bold\">)</span>,\n",
       "    <span style=\"font-weight: bold\">(</span><span style=\"color: #008000; text-decoration-color: #008000\">'af064f355456-2'</span>, <span style=\"color: #008000; text-decoration-color: #008000\">'QUÁLITAS'</span><span style=\"font-weight: bold\">)</span>,\n",
       "    <span style=\"font-weight: bold\">(</span><span style=\"color: #008000; text-decoration-color: #008000\">'af064f355456-3'</span>, <span style=\"color: #008000; text-decoration-color: #008000\">'INBURSA'</span><span style=\"font-weight: bold\">)</span>,\n",
       "    <span style=\"font-weight: bold\">(</span><span style=\"color: #008000; text-decoration-color: #008000\">'af064f355456-4'</span>, <span style=\"color: #008000; text-decoration-color: #008000\">'ZURICH'</span><span style=\"font-weight: bold\">)</span>,\n",
       "    <span style=\"font-weight: bold\">(</span><span style=\"color: #008000; text-decoration-color: #008000\">'af064f355456-5'</span>, <span style=\"color: #008000; text-decoration-color: #008000\">'ANA'</span><span style=\"font-weight: bold\">)</span>,\n",
       "    <span style=\"font-weight: bold\">(</span><span style=\"color: #008000; text-decoration-color: #008000\">'af064f355456-6'</span>, <span style=\"color: #008000; text-decoration-color: #008000\">'ATLAS'</span><span style=\"font-weight: bold\">)</span>,\n",
       "    <span style=\"font-weight: bold\">(</span><span style=\"color: #008000; text-decoration-color: #008000\">'af064f355456-7'</span>, <span style=\"color: #008000; text-decoration-color: #008000\">'GNP'</span><span style=\"font-weight: bold\">)</span>,\n",
       "    <span style=\"font-weight: bold\">(</span><span style=\"color: #008000; text-decoration-color: #008000\">'af064f355456-8'</span>, <span style=\"color: #008000; text-decoration-color: #008000\">'MAPFRE'</span><span style=\"font-weight: bold\">)</span>,\n",
       "    <span style=\"font-weight: bold\">(</span><span style=\"color: #008000; text-decoration-color: #008000\">'af064f355456-9'</span>, <span style=\"color: #008000; text-decoration-color: #008000\">'AIG'</span><span style=\"font-weight: bold\">)</span>,\n",
       "    <span style=\"font-weight: bold\">(</span><span style=\"color: #008000; text-decoration-color: #008000\">'af064f355456-10'</span>, <span style=\"color: #008000; text-decoration-color: #008000\">'AXA'</span><span style=\"font-weight: bold\">)</span>\n",
       "<span style=\"font-weight: bold\">]</span>\n",
       "</pre>\n"
      ],
      "text/plain": [
       "\u001b[1m[\u001b[0m\n",
       "    \u001b[1m(\u001b[0m\u001b[32m'af064f355456-0'\u001b[0m, \u001b[32m'CHUBB'\u001b[0m\u001b[1m)\u001b[0m,\n",
       "    \u001b[1m(\u001b[0m\u001b[32m'af064f355456-1'\u001b[0m, \u001b[32m'HDI'\u001b[0m\u001b[1m)\u001b[0m,\n",
       "    \u001b[1m(\u001b[0m\u001b[32m'af064f355456-2'\u001b[0m, \u001b[32m'QUÁLITAS'\u001b[0m\u001b[1m)\u001b[0m,\n",
       "    \u001b[1m(\u001b[0m\u001b[32m'af064f355456-3'\u001b[0m, \u001b[32m'INBURSA'\u001b[0m\u001b[1m)\u001b[0m,\n",
       "    \u001b[1m(\u001b[0m\u001b[32m'af064f355456-4'\u001b[0m, \u001b[32m'ZURICH'\u001b[0m\u001b[1m)\u001b[0m,\n",
       "    \u001b[1m(\u001b[0m\u001b[32m'af064f355456-5'\u001b[0m, \u001b[32m'ANA'\u001b[0m\u001b[1m)\u001b[0m,\n",
       "    \u001b[1m(\u001b[0m\u001b[32m'af064f355456-6'\u001b[0m, \u001b[32m'ATLAS'\u001b[0m\u001b[1m)\u001b[0m,\n",
       "    \u001b[1m(\u001b[0m\u001b[32m'af064f355456-7'\u001b[0m, \u001b[32m'GNP'\u001b[0m\u001b[1m)\u001b[0m,\n",
       "    \u001b[1m(\u001b[0m\u001b[32m'af064f355456-8'\u001b[0m, \u001b[32m'MAPFRE'\u001b[0m\u001b[1m)\u001b[0m,\n",
       "    \u001b[1m(\u001b[0m\u001b[32m'af064f355456-9'\u001b[0m, \u001b[32m'AIG'\u001b[0m\u001b[1m)\u001b[0m,\n",
       "    \u001b[1m(\u001b[0m\u001b[32m'af064f355456-10'\u001b[0m, \u001b[32m'AXA'\u001b[0m\u001b[1m)\u001b[0m\n",
       "\u001b[1m]\u001b[0m\n"
      ]
     },
     "metadata": {},
     "output_type": "display_data"
    }
   ],
   "source": [
    "abrir_modal_coberturas(driver)\n",
    "interactuar_ng_select(driver)\n",
    "aseguradoras=obtener_opciones_completas(driver)\n",
    "print(aseguradoras)"
   ]
  },
  {
   "cell_type": "code",
   "execution_count": 24,
   "id": "b43231ec",
   "metadata": {},
   "outputs": [
    {
     "data": {
      "text/html": [
       "<pre style=\"white-space:pre;overflow-x:auto;line-height:normal;font-family:Menlo,'DejaVu Sans Mono',consolas,'Courier New',monospace\"><span style=\"color: #008080; text-decoration-color: #008080; font-weight: bold\">Procesando opción ID: a9258ab73c6c-</span><span style=\"color: #008080; text-decoration-color: #008080; font-weight: bold\">1</span>\n",
       "</pre>\n"
      ],
      "text/plain": [
       "\u001b[1;36mProcesando opción ID: a9258ab73c6c-\u001b[0m\u001b[1;36m1\u001b[0m\n"
      ]
     },
     "metadata": {},
     "output_type": "display_data"
    },
    {
     "data": {
      "text/html": [
       "<pre style=\"white-space:pre;overflow-x:auto;line-height:normal;font-family:Menlo,'DejaVu Sans Mono',consolas,'Courier New',monospace\"><span style=\"color: #008000; text-decoration-color: #008000\">Selección confirmada: a9258ab73c6c-</span><span style=\"color: #008000; text-decoration-color: #008000; font-weight: bold\">1</span>\n",
       "</pre>\n"
      ],
      "text/plain": [
       "\u001b[32mSelección confirmada: a9258ab73c6c-\u001b[0m\u001b[1;32m1\u001b[0m\n"
      ]
     },
     "metadata": {},
     "output_type": "display_data"
    },
    {
     "data": {
      "text/html": [
       "<pre style=\"white-space:pre;overflow-x:auto;line-height:normal;font-family:Menlo,'DejaVu Sans Mono',consolas,'Courier New',monospace\"><span style=\"color: #008080; text-decoration-color: #008080; font-weight: bold\">10952.14</span>\n",
       "</pre>\n"
      ],
      "text/plain": [
       "\u001b[1;36m10952.14\u001b[0m\n"
      ]
     },
     "metadata": {},
     "output_type": "display_data"
    }
   ],
   "source": [
    "seleccionar_opcion_por_id(driver, \"a9258ab73c6c-1\")\n",
    "print(obtener_precio_anual(driver))"
   ]
  },
  {
   "cell_type": "code",
   "execution_count": 25,
   "id": "8def34b5",
   "metadata": {},
   "outputs": [
    {
     "data": {
      "text/html": [
       "<pre style=\"white-space:pre;overflow-x:auto;line-height:normal;font-family:Menlo,'DejaVu Sans Mono',consolas,'Courier New',monospace\"><span style=\"color: #008080; text-decoration-color: #008080\">Encontrados </span><span style=\"color: #008080; text-decoration-color: #008080; font-weight: bold\">8</span><span style=\"color: #008080; text-decoration-color: #008080\"> elementos colapsados.</span>\n",
       "</pre>\n"
      ],
      "text/plain": [
       "\u001b[36mEncontrados \u001b[0m\u001b[1;36m8\u001b[0m\u001b[36m elementos colapsados.\u001b[0m\n"
      ]
     },
     "metadata": {},
     "output_type": "display_data"
    },
    {
     "data": {
      "text/html": [
       "<pre style=\"white-space:pre;overflow-x:auto;line-height:normal;font-family:Menlo,'DejaVu Sans Mono',consolas,'Courier New',monospace\"><span style=\"color: #008000; text-decoration-color: #008000; font-weight: bold\">Proceso completado: </span><span style=\"color: #008000; text-decoration-color: #008000; font-weight: bold\">8</span><span style=\"color: #008000; text-decoration-color: #008000; font-weight: bold\"> intentos realizados.</span>\n",
       "</pre>\n"
      ],
      "text/plain": [
       "\u001b[1;32mProceso completado: \u001b[0m\u001b[1;32m8\u001b[0m\u001b[1;32m intentos realizados.\u001b[0m\n"
      ]
     },
     "metadata": {},
     "output_type": "display_data"
    },
    {
     "data": {
      "text/html": [
       "<pre style=\"white-space:pre;overflow-x:auto;line-height:normal;font-family:Menlo,'DejaVu Sans Mono',consolas,'Courier New',monospace\"><span style=\"font-weight: bold\">[</span>\n",
       "    <span style=\"color: #008000; text-decoration-color: #008000\">'Colisiones, vuelcos y estrellamientos'</span>,\n",
       "    <span style=\"color: #008000; text-decoration-color: #008000\">'Rotura de cristales'</span>,\n",
       "    <span style=\"color: #008000; text-decoration-color: #008000\">'Incendio, rayo y explosión'</span>,\n",
       "    <span style=\"color: #008000; text-decoration-color: #008000\">'Catástrofes naturales'</span>,\n",
       "    <span style=\"color: #008000; text-decoration-color: #008000\">'Paros, mítines, huelgas o disturbios'</span>,\n",
       "    <span style=\"color: #008000; text-decoration-color: #008000\">'Daños al transportar el vehículo asegurado'</span>,\n",
       "    <span style=\"color: #008000; text-decoration-color: #008000\">'Penetración de agua al motor'</span>\n",
       "<span style=\"font-weight: bold\">]</span>\n",
       "</pre>\n"
      ],
      "text/plain": [
       "\u001b[1m[\u001b[0m\n",
       "    \u001b[32m'Colisiones, vuelcos y estrellamientos'\u001b[0m,\n",
       "    \u001b[32m'Rotura de cristales'\u001b[0m,\n",
       "    \u001b[32m'Incendio, rayo y explosión'\u001b[0m,\n",
       "    \u001b[32m'Catástrofes naturales'\u001b[0m,\n",
       "    \u001b[32m'Paros, mítines, huelgas o disturbios'\u001b[0m,\n",
       "    \u001b[32m'Daños al transportar el vehículo asegurado'\u001b[0m,\n",
       "    \u001b[32m'Penetración de agua al motor'\u001b[0m\n",
       "\u001b[1m]\u001b[0m\n"
      ]
     },
     "metadata": {},
     "output_type": "display_data"
    }
   ],
   "source": [
    "expandir_todos_elementos(driver)\n",
    "data=extraer_danios_materiales_2(driver)\n",
    "print(data)"
   ]
  },
  {
   "cell_type": "code",
   "execution_count": 26,
   "id": "9f86358f",
   "metadata": {},
   "outputs": [
    {
     "data": {
      "text/html": [
       "<pre style=\"white-space:pre;overflow-x:auto;line-height:normal;font-family:Menlo,'DejaVu Sans Mono',consolas,'Courier New',monospace\"><span style=\"color: #008080; text-decoration-color: #008080\">Encontrados </span><span style=\"color: #008080; text-decoration-color: #008080; font-weight: bold\">8</span><span style=\"color: #008080; text-decoration-color: #008080\"> elementos colapsados.</span>\n",
       "</pre>\n"
      ],
      "text/plain": [
       "\u001b[36mEncontrados \u001b[0m\u001b[1;36m8\u001b[0m\u001b[36m elementos colapsados.\u001b[0m\n"
      ]
     },
     "metadata": {},
     "output_type": "display_data"
    },
    {
     "data": {
      "text/html": [
       "<pre style=\"white-space:pre;overflow-x:auto;line-height:normal;font-family:Menlo,'DejaVu Sans Mono',consolas,'Courier New',monospace\"><span style=\"color: #008000; text-decoration-color: #008000; font-weight: bold\">Proceso completado: </span><span style=\"color: #008000; text-decoration-color: #008000; font-weight: bold\">8</span><span style=\"color: #008000; text-decoration-color: #008000; font-weight: bold\"> intentos realizados.</span>\n",
       "</pre>\n"
      ],
      "text/plain": [
       "\u001b[1;32mProceso completado: \u001b[0m\u001b[1;32m8\u001b[0m\u001b[1;32m intentos realizados.\u001b[0m\n"
      ]
     },
     "metadata": {},
     "output_type": "display_data"
    },
    {
     "data": {
      "text/html": [
       "<pre style=\"white-space:pre;overflow-x:auto;line-height:normal;font-family:Menlo,'DejaVu Sans Mono',consolas,'Courier New',monospace\"><span style=\"color: #008000; text-decoration-color: #008000\">Dropdown desplegado</span>\n",
       "</pre>\n"
      ],
      "text/plain": [
       "\u001b[32mDropdown desplegado\u001b[0m\n"
      ]
     },
     "metadata": {},
     "output_type": "display_data"
    },
    {
     "data": {
      "text/html": [
       "<pre style=\"white-space:pre;overflow-x:auto;line-height:normal;font-family:Menlo,'DejaVu Sans Mono',consolas,'Courier New',monospace\"><span style=\"color: #008080; text-decoration-color: #008080; font-weight: bold\">Procesando opción ID: af064f355456-</span><span style=\"color: #008080; text-decoration-color: #008080; font-weight: bold\">1</span>\n",
       "</pre>\n"
      ],
      "text/plain": [
       "\u001b[1;36mProcesando opción ID: af064f355456-\u001b[0m\u001b[1;36m1\u001b[0m\n"
      ]
     },
     "metadata": {},
     "output_type": "display_data"
    },
    {
     "data": {
      "text/html": [
       "<pre style=\"white-space:pre;overflow-x:auto;line-height:normal;font-family:Menlo,'DejaVu Sans Mono',consolas,'Courier New',monospace\"><span style=\"color: #808000; text-decoration-color: #808000\">Error en intento </span><span style=\"color: #808000; text-decoration-color: #808000; font-weight: bold\">1</span><span style=\"color: #808000; text-decoration-color: #808000\">: Message: </span>\n",
       "\n",
       "</pre>\n"
      ],
      "text/plain": [
       "\u001b[33mError en intento \u001b[0m\u001b[1;33m1\u001b[0m\u001b[33m: Message: \u001b[0m\n",
       "\n"
      ]
     },
     "metadata": {},
     "output_type": "display_data"
    },
    {
     "data": {
      "text/html": [
       "<pre style=\"white-space:pre;overflow-x:auto;line-height:normal;font-family:Menlo,'DejaVu Sans Mono',consolas,'Courier New',monospace\"><span style=\"color: #808000; text-decoration-color: #808000\">Error en intento </span><span style=\"color: #808000; text-decoration-color: #808000; font-weight: bold\">2</span><span style=\"color: #808000; text-decoration-color: #808000\">: Message: </span>\n",
       "\n",
       "</pre>\n"
      ],
      "text/plain": [
       "\u001b[33mError en intento \u001b[0m\u001b[1;33m2\u001b[0m\u001b[33m: Message: \u001b[0m\n",
       "\n"
      ]
     },
     "metadata": {},
     "output_type": "display_data"
    },
    {
     "data": {
      "text/html": [
       "<pre style=\"white-space:pre;overflow-x:auto;line-height:normal;font-family:Menlo,'DejaVu Sans Mono',consolas,'Courier New',monospace\"><span style=\"color: #808000; text-decoration-color: #808000\">Error en intento </span><span style=\"color: #808000; text-decoration-color: #808000; font-weight: bold\">3</span><span style=\"color: #808000; text-decoration-color: #808000\">: Message: </span>\n",
       "\n",
       "</pre>\n"
      ],
      "text/plain": [
       "\u001b[33mError en intento \u001b[0m\u001b[1;33m3\u001b[0m\u001b[33m: Message: \u001b[0m\n",
       "\n"
      ]
     },
     "metadata": {},
     "output_type": "display_data"
    },
    {
     "data": {
      "text/html": [
       "<pre style=\"white-space:pre;overflow-x:auto;line-height:normal;font-family:Menlo,'DejaVu Sans Mono',consolas,'Courier New',monospace\"><span style=\"color: #800000; text-decoration-color: #800000\">Fallo en af064f355456-</span><span style=\"color: #800000; text-decoration-color: #800000; font-weight: bold\">1</span><span style=\"color: #800000; text-decoration-color: #800000\">: Máximo de reintentos alcanzado</span>\n",
       "</pre>\n"
      ],
      "text/plain": [
       "\u001b[31mFallo en af064f355456-\u001b[0m\u001b[1;31m1\u001b[0m\u001b[31m: Máximo de reintentos alcanzado\u001b[0m\n"
      ]
     },
     "metadata": {},
     "output_type": "display_data"
    },
    {
     "data": {
      "text/html": [
       "<pre style=\"white-space:pre;overflow-x:auto;line-height:normal;font-family:Menlo,'DejaVu Sans Mono',consolas,'Courier New',monospace\"><span style=\"color: #008080; text-decoration-color: #008080\">Encontrados </span><span style=\"color: #008080; text-decoration-color: #008080; font-weight: bold\">8</span><span style=\"color: #008080; text-decoration-color: #008080\"> elementos colapsados.</span>\n",
       "</pre>\n"
      ],
      "text/plain": [
       "\u001b[36mEncontrados \u001b[0m\u001b[1;36m8\u001b[0m\u001b[36m elementos colapsados.\u001b[0m\n"
      ]
     },
     "metadata": {},
     "output_type": "display_data"
    },
    {
     "data": {
      "text/html": [
       "<pre style=\"white-space:pre;overflow-x:auto;line-height:normal;font-family:Menlo,'DejaVu Sans Mono',consolas,'Courier New',monospace\"><span style=\"color: #008000; text-decoration-color: #008000; font-weight: bold\">Proceso completado: </span><span style=\"color: #008000; text-decoration-color: #008000; font-weight: bold\">8</span><span style=\"color: #008000; text-decoration-color: #008000; font-weight: bold\"> intentos realizados.</span>\n",
       "</pre>\n"
      ],
      "text/plain": [
       "\u001b[1;32mProceso completado: \u001b[0m\u001b[1;32m8\u001b[0m\u001b[1;32m intentos realizados.\u001b[0m\n"
      ]
     },
     "metadata": {},
     "output_type": "display_data"
    },
    {
     "data": {
      "text/html": [
       "<pre style=\"white-space:pre;overflow-x:auto;line-height:normal;font-family:Menlo,'DejaVu Sans Mono',consolas,'Courier New',monospace\"><span style=\"color: #008000; text-decoration-color: #008000\">Dropdown desplegado</span>\n",
       "</pre>\n"
      ],
      "text/plain": [
       "\u001b[32mDropdown desplegado\u001b[0m\n"
      ]
     },
     "metadata": {},
     "output_type": "display_data"
    },
    {
     "data": {
      "text/html": [
       "<pre style=\"white-space:pre;overflow-x:auto;line-height:normal;font-family:Menlo,'DejaVu Sans Mono',consolas,'Courier New',monospace\"><span style=\"color: #008080; text-decoration-color: #008080; font-weight: bold\">Procesando opción ID: af064f355456-</span><span style=\"color: #008080; text-decoration-color: #008080; font-weight: bold\">2</span>\n",
       "</pre>\n"
      ],
      "text/plain": [
       "\u001b[1;36mProcesando opción ID: af064f355456-\u001b[0m\u001b[1;36m2\u001b[0m\n"
      ]
     },
     "metadata": {},
     "output_type": "display_data"
    },
    {
     "data": {
      "text/html": [
       "<pre style=\"white-space:pre;overflow-x:auto;line-height:normal;font-family:Menlo,'DejaVu Sans Mono',consolas,'Courier New',monospace\"><span style=\"color: #008000; text-decoration-color: #008000\">Selección confirmada: af064f355456-</span><span style=\"color: #008000; text-decoration-color: #008000; font-weight: bold\">2</span>\n",
       "</pre>\n"
      ],
      "text/plain": [
       "\u001b[32mSelección confirmada: af064f355456-\u001b[0m\u001b[1;32m2\u001b[0m\n"
      ]
     },
     "metadata": {},
     "output_type": "display_data"
    },
    {
     "data": {
      "text/html": [
       "<pre style=\"white-space:pre;overflow-x:auto;line-height:normal;font-family:Menlo,'DejaVu Sans Mono',consolas,'Courier New',monospace\"><span style=\"color: #008080; text-decoration-color: #008080\">Encontrados </span><span style=\"color: #008080; text-decoration-color: #008080; font-weight: bold\">8</span><span style=\"color: #008080; text-decoration-color: #008080\"> elementos colapsados.</span>\n",
       "</pre>\n"
      ],
      "text/plain": [
       "\u001b[36mEncontrados \u001b[0m\u001b[1;36m8\u001b[0m\u001b[36m elementos colapsados.\u001b[0m\n"
      ]
     },
     "metadata": {},
     "output_type": "display_data"
    },
    {
     "data": {
      "text/html": [
       "<pre style=\"white-space:pre;overflow-x:auto;line-height:normal;font-family:Menlo,'DejaVu Sans Mono',consolas,'Courier New',monospace\"><span style=\"color: #008000; text-decoration-color: #008000; font-weight: bold\">Proceso completado: </span><span style=\"color: #008000; text-decoration-color: #008000; font-weight: bold\">8</span><span style=\"color: #008000; text-decoration-color: #008000; font-weight: bold\"> intentos realizados.</span>\n",
       "</pre>\n"
      ],
      "text/plain": [
       "\u001b[1;32mProceso completado: \u001b[0m\u001b[1;32m8\u001b[0m\u001b[1;32m intentos realizados.\u001b[0m\n"
      ]
     },
     "metadata": {},
     "output_type": "display_data"
    },
    {
     "data": {
      "text/html": [
       "<pre style=\"white-space:pre;overflow-x:auto;line-height:normal;font-family:Menlo,'DejaVu Sans Mono',consolas,'Courier New',monospace\"><span style=\"color: #008000; text-decoration-color: #008000\">Dropdown desplegado</span>\n",
       "</pre>\n"
      ],
      "text/plain": [
       "\u001b[32mDropdown desplegado\u001b[0m\n"
      ]
     },
     "metadata": {},
     "output_type": "display_data"
    },
    {
     "data": {
      "text/html": [
       "<pre style=\"white-space:pre;overflow-x:auto;line-height:normal;font-family:Menlo,'DejaVu Sans Mono',consolas,'Courier New',monospace\"><span style=\"color: #008080; text-decoration-color: #008080; font-weight: bold\">Procesando opción ID: af064f355456-</span><span style=\"color: #008080; text-decoration-color: #008080; font-weight: bold\">3</span>\n",
       "</pre>\n"
      ],
      "text/plain": [
       "\u001b[1;36mProcesando opción ID: af064f355456-\u001b[0m\u001b[1;36m3\u001b[0m\n"
      ]
     },
     "metadata": {},
     "output_type": "display_data"
    },
    {
     "data": {
      "text/html": [
       "<pre style=\"white-space:pre;overflow-x:auto;line-height:normal;font-family:Menlo,'DejaVu Sans Mono',consolas,'Courier New',monospace\"><span style=\"color: #008000; text-decoration-color: #008000\">Selección confirmada: af064f355456-</span><span style=\"color: #008000; text-decoration-color: #008000; font-weight: bold\">3</span>\n",
       "</pre>\n"
      ],
      "text/plain": [
       "\u001b[32mSelección confirmada: af064f355456-\u001b[0m\u001b[1;32m3\u001b[0m\n"
      ]
     },
     "metadata": {},
     "output_type": "display_data"
    },
    {
     "data": {
      "text/html": [
       "<pre style=\"white-space:pre;overflow-x:auto;line-height:normal;font-family:Menlo,'DejaVu Sans Mono',consolas,'Courier New',monospace\"><span style=\"color: #008080; text-decoration-color: #008080\">Encontrados </span><span style=\"color: #008080; text-decoration-color: #008080; font-weight: bold\">8</span><span style=\"color: #008080; text-decoration-color: #008080\"> elementos colapsados.</span>\n",
       "</pre>\n"
      ],
      "text/plain": [
       "\u001b[36mEncontrados \u001b[0m\u001b[1;36m8\u001b[0m\u001b[36m elementos colapsados.\u001b[0m\n"
      ]
     },
     "metadata": {},
     "output_type": "display_data"
    },
    {
     "data": {
      "text/html": [
       "<pre style=\"white-space:pre;overflow-x:auto;line-height:normal;font-family:Menlo,'DejaVu Sans Mono',consolas,'Courier New',monospace\"><span style=\"color: #008000; text-decoration-color: #008000; font-weight: bold\">Proceso completado: </span><span style=\"color: #008000; text-decoration-color: #008000; font-weight: bold\">8</span><span style=\"color: #008000; text-decoration-color: #008000; font-weight: bold\"> intentos realizados.</span>\n",
       "</pre>\n"
      ],
      "text/plain": [
       "\u001b[1;32mProceso completado: \u001b[0m\u001b[1;32m8\u001b[0m\u001b[1;32m intentos realizados.\u001b[0m\n"
      ]
     },
     "metadata": {},
     "output_type": "display_data"
    },
    {
     "data": {
      "text/html": [
       "<pre style=\"white-space:pre;overflow-x:auto;line-height:normal;font-family:Menlo,'DejaVu Sans Mono',consolas,'Courier New',monospace\"><span style=\"color: #008000; text-decoration-color: #008000\">Dropdown desplegado</span>\n",
       "</pre>\n"
      ],
      "text/plain": [
       "\u001b[32mDropdown desplegado\u001b[0m\n"
      ]
     },
     "metadata": {},
     "output_type": "display_data"
    },
    {
     "data": {
      "text/html": [
       "<pre style=\"white-space:pre;overflow-x:auto;line-height:normal;font-family:Menlo,'DejaVu Sans Mono',consolas,'Courier New',monospace\"><span style=\"color: #008080; text-decoration-color: #008080; font-weight: bold\">Procesando opción ID: af064f355456-</span><span style=\"color: #008080; text-decoration-color: #008080; font-weight: bold\">4</span>\n",
       "</pre>\n"
      ],
      "text/plain": [
       "\u001b[1;36mProcesando opción ID: af064f355456-\u001b[0m\u001b[1;36m4\u001b[0m\n"
      ]
     },
     "metadata": {},
     "output_type": "display_data"
    },
    {
     "data": {
      "text/html": [
       "<pre style=\"white-space:pre;overflow-x:auto;line-height:normal;font-family:Menlo,'DejaVu Sans Mono',consolas,'Courier New',monospace\"><span style=\"color: #008000; text-decoration-color: #008000\">Selección confirmada: af064f355456-</span><span style=\"color: #008000; text-decoration-color: #008000; font-weight: bold\">4</span>\n",
       "</pre>\n"
      ],
      "text/plain": [
       "\u001b[32mSelección confirmada: af064f355456-\u001b[0m\u001b[1;32m4\u001b[0m\n"
      ]
     },
     "metadata": {},
     "output_type": "display_data"
    },
    {
     "data": {
      "text/html": [
       "<pre style=\"white-space:pre;overflow-x:auto;line-height:normal;font-family:Menlo,'DejaVu Sans Mono',consolas,'Courier New',monospace\"><span style=\"color: #008080; text-decoration-color: #008080\">Encontrados </span><span style=\"color: #008080; text-decoration-color: #008080; font-weight: bold\">8</span><span style=\"color: #008080; text-decoration-color: #008080\"> elementos colapsados.</span>\n",
       "</pre>\n"
      ],
      "text/plain": [
       "\u001b[36mEncontrados \u001b[0m\u001b[1;36m8\u001b[0m\u001b[36m elementos colapsados.\u001b[0m\n"
      ]
     },
     "metadata": {},
     "output_type": "display_data"
    },
    {
     "data": {
      "text/html": [
       "<pre style=\"white-space:pre;overflow-x:auto;line-height:normal;font-family:Menlo,'DejaVu Sans Mono',consolas,'Courier New',monospace\"><span style=\"color: #008000; text-decoration-color: #008000; font-weight: bold\">Proceso completado: </span><span style=\"color: #008000; text-decoration-color: #008000; font-weight: bold\">8</span><span style=\"color: #008000; text-decoration-color: #008000; font-weight: bold\"> intentos realizados.</span>\n",
       "</pre>\n"
      ],
      "text/plain": [
       "\u001b[1;32mProceso completado: \u001b[0m\u001b[1;32m8\u001b[0m\u001b[1;32m intentos realizados.\u001b[0m\n"
      ]
     },
     "metadata": {},
     "output_type": "display_data"
    },
    {
     "data": {
      "text/html": [
       "<pre style=\"white-space:pre;overflow-x:auto;line-height:normal;font-family:Menlo,'DejaVu Sans Mono',consolas,'Courier New',monospace\"><span style=\"color: #008000; text-decoration-color: #008000\">Dropdown desplegado</span>\n",
       "</pre>\n"
      ],
      "text/plain": [
       "\u001b[32mDropdown desplegado\u001b[0m\n"
      ]
     },
     "metadata": {},
     "output_type": "display_data"
    },
    {
     "data": {
      "text/html": [
       "<pre style=\"white-space:pre;overflow-x:auto;line-height:normal;font-family:Menlo,'DejaVu Sans Mono',consolas,'Courier New',monospace\"><span style=\"color: #008080; text-decoration-color: #008080; font-weight: bold\">Procesando opción ID: af064f355456-</span><span style=\"color: #008080; text-decoration-color: #008080; font-weight: bold\">5</span>\n",
       "</pre>\n"
      ],
      "text/plain": [
       "\u001b[1;36mProcesando opción ID: af064f355456-\u001b[0m\u001b[1;36m5\u001b[0m\n"
      ]
     },
     "metadata": {},
     "output_type": "display_data"
    },
    {
     "data": {
      "text/html": [
       "<pre style=\"white-space:pre;overflow-x:auto;line-height:normal;font-family:Menlo,'DejaVu Sans Mono',consolas,'Courier New',monospace\"><span style=\"color: #008000; text-decoration-color: #008000\">Selección confirmada: af064f355456-</span><span style=\"color: #008000; text-decoration-color: #008000; font-weight: bold\">5</span>\n",
       "</pre>\n"
      ],
      "text/plain": [
       "\u001b[32mSelección confirmada: af064f355456-\u001b[0m\u001b[1;32m5\u001b[0m\n"
      ]
     },
     "metadata": {},
     "output_type": "display_data"
    },
    {
     "data": {
      "text/html": [
       "<pre style=\"white-space:pre;overflow-x:auto;line-height:normal;font-family:Menlo,'DejaVu Sans Mono',consolas,'Courier New',monospace\"><span style=\"color: #008080; text-decoration-color: #008080\">Encontrados </span><span style=\"color: #008080; text-decoration-color: #008080; font-weight: bold\">8</span><span style=\"color: #008080; text-decoration-color: #008080\"> elementos colapsados.</span>\n",
       "</pre>\n"
      ],
      "text/plain": [
       "\u001b[36mEncontrados \u001b[0m\u001b[1;36m8\u001b[0m\u001b[36m elementos colapsados.\u001b[0m\n"
      ]
     },
     "metadata": {},
     "output_type": "display_data"
    },
    {
     "data": {
      "text/html": [
       "<pre style=\"white-space:pre;overflow-x:auto;line-height:normal;font-family:Menlo,'DejaVu Sans Mono',consolas,'Courier New',monospace\"><span style=\"color: #008000; text-decoration-color: #008000; font-weight: bold\">Proceso completado: </span><span style=\"color: #008000; text-decoration-color: #008000; font-weight: bold\">8</span><span style=\"color: #008000; text-decoration-color: #008000; font-weight: bold\"> intentos realizados.</span>\n",
       "</pre>\n"
      ],
      "text/plain": [
       "\u001b[1;32mProceso completado: \u001b[0m\u001b[1;32m8\u001b[0m\u001b[1;32m intentos realizados.\u001b[0m\n"
      ]
     },
     "metadata": {},
     "output_type": "display_data"
    },
    {
     "data": {
      "text/html": [
       "<pre style=\"white-space:pre;overflow-x:auto;line-height:normal;font-family:Menlo,'DejaVu Sans Mono',consolas,'Courier New',monospace\"><span style=\"color: #008000; text-decoration-color: #008000\">Dropdown desplegado</span>\n",
       "</pre>\n"
      ],
      "text/plain": [
       "\u001b[32mDropdown desplegado\u001b[0m\n"
      ]
     },
     "metadata": {},
     "output_type": "display_data"
    },
    {
     "data": {
      "text/html": [
       "<pre style=\"white-space:pre;overflow-x:auto;line-height:normal;font-family:Menlo,'DejaVu Sans Mono',consolas,'Courier New',monospace\"><span style=\"color: #008080; text-decoration-color: #008080; font-weight: bold\">Procesando opción ID: af064f355456-</span><span style=\"color: #008080; text-decoration-color: #008080; font-weight: bold\">6</span>\n",
       "</pre>\n"
      ],
      "text/plain": [
       "\u001b[1;36mProcesando opción ID: af064f355456-\u001b[0m\u001b[1;36m6\u001b[0m\n"
      ]
     },
     "metadata": {},
     "output_type": "display_data"
    },
    {
     "data": {
      "text/html": [
       "<pre style=\"white-space:pre;overflow-x:auto;line-height:normal;font-family:Menlo,'DejaVu Sans Mono',consolas,'Courier New',monospace\"><span style=\"color: #008000; text-decoration-color: #008000\">Selección confirmada: af064f355456-</span><span style=\"color: #008000; text-decoration-color: #008000; font-weight: bold\">6</span>\n",
       "</pre>\n"
      ],
      "text/plain": [
       "\u001b[32mSelección confirmada: af064f355456-\u001b[0m\u001b[1;32m6\u001b[0m\n"
      ]
     },
     "metadata": {},
     "output_type": "display_data"
    },
    {
     "data": {
      "text/html": [
       "<pre style=\"white-space:pre;overflow-x:auto;line-height:normal;font-family:Menlo,'DejaVu Sans Mono',consolas,'Courier New',monospace\"><span style=\"color: #008080; text-decoration-color: #008080\">Encontrados </span><span style=\"color: #008080; text-decoration-color: #008080; font-weight: bold\">8</span><span style=\"color: #008080; text-decoration-color: #008080\"> elementos colapsados.</span>\n",
       "</pre>\n"
      ],
      "text/plain": [
       "\u001b[36mEncontrados \u001b[0m\u001b[1;36m8\u001b[0m\u001b[36m elementos colapsados.\u001b[0m\n"
      ]
     },
     "metadata": {},
     "output_type": "display_data"
    },
    {
     "data": {
      "text/html": [
       "<pre style=\"white-space:pre;overflow-x:auto;line-height:normal;font-family:Menlo,'DejaVu Sans Mono',consolas,'Courier New',monospace\"><span style=\"color: #008000; text-decoration-color: #008000; font-weight: bold\">Proceso completado: </span><span style=\"color: #008000; text-decoration-color: #008000; font-weight: bold\">8</span><span style=\"color: #008000; text-decoration-color: #008000; font-weight: bold\"> intentos realizados.</span>\n",
       "</pre>\n"
      ],
      "text/plain": [
       "\u001b[1;32mProceso completado: \u001b[0m\u001b[1;32m8\u001b[0m\u001b[1;32m intentos realizados.\u001b[0m\n"
      ]
     },
     "metadata": {},
     "output_type": "display_data"
    },
    {
     "data": {
      "text/html": [
       "<pre style=\"white-space:pre;overflow-x:auto;line-height:normal;font-family:Menlo,'DejaVu Sans Mono',consolas,'Courier New',monospace\"><span style=\"color: #008000; text-decoration-color: #008000\">Dropdown desplegado</span>\n",
       "</pre>\n"
      ],
      "text/plain": [
       "\u001b[32mDropdown desplegado\u001b[0m\n"
      ]
     },
     "metadata": {},
     "output_type": "display_data"
    },
    {
     "data": {
      "text/html": [
       "<pre style=\"white-space:pre;overflow-x:auto;line-height:normal;font-family:Menlo,'DejaVu Sans Mono',consolas,'Courier New',monospace\"><span style=\"color: #008080; text-decoration-color: #008080; font-weight: bold\">Procesando opción ID: af064f355456-</span><span style=\"color: #008080; text-decoration-color: #008080; font-weight: bold\">7</span>\n",
       "</pre>\n"
      ],
      "text/plain": [
       "\u001b[1;36mProcesando opción ID: af064f355456-\u001b[0m\u001b[1;36m7\u001b[0m\n"
      ]
     },
     "metadata": {},
     "output_type": "display_data"
    },
    {
     "data": {
      "text/html": [
       "<pre style=\"white-space:pre;overflow-x:auto;line-height:normal;font-family:Menlo,'DejaVu Sans Mono',consolas,'Courier New',monospace\"><span style=\"color: #008000; text-decoration-color: #008000\">Selección confirmada: af064f355456-</span><span style=\"color: #008000; text-decoration-color: #008000; font-weight: bold\">7</span>\n",
       "</pre>\n"
      ],
      "text/plain": [
       "\u001b[32mSelección confirmada: af064f355456-\u001b[0m\u001b[1;32m7\u001b[0m\n"
      ]
     },
     "metadata": {},
     "output_type": "display_data"
    },
    {
     "data": {
      "text/html": [
       "<pre style=\"white-space:pre;overflow-x:auto;line-height:normal;font-family:Menlo,'DejaVu Sans Mono',consolas,'Courier New',monospace\"><span style=\"color: #008080; text-decoration-color: #008080\">Encontrados </span><span style=\"color: #008080; text-decoration-color: #008080; font-weight: bold\">8</span><span style=\"color: #008080; text-decoration-color: #008080\"> elementos colapsados.</span>\n",
       "</pre>\n"
      ],
      "text/plain": [
       "\u001b[36mEncontrados \u001b[0m\u001b[1;36m8\u001b[0m\u001b[36m elementos colapsados.\u001b[0m\n"
      ]
     },
     "metadata": {},
     "output_type": "display_data"
    },
    {
     "data": {
      "text/html": [
       "<pre style=\"white-space:pre;overflow-x:auto;line-height:normal;font-family:Menlo,'DejaVu Sans Mono',consolas,'Courier New',monospace\"><span style=\"color: #008000; text-decoration-color: #008000; font-weight: bold\">Proceso completado: </span><span style=\"color: #008000; text-decoration-color: #008000; font-weight: bold\">8</span><span style=\"color: #008000; text-decoration-color: #008000; font-weight: bold\"> intentos realizados.</span>\n",
       "</pre>\n"
      ],
      "text/plain": [
       "\u001b[1;32mProceso completado: \u001b[0m\u001b[1;32m8\u001b[0m\u001b[1;32m intentos realizados.\u001b[0m\n"
      ]
     },
     "metadata": {},
     "output_type": "display_data"
    },
    {
     "data": {
      "text/html": [
       "<pre style=\"white-space:pre;overflow-x:auto;line-height:normal;font-family:Menlo,'DejaVu Sans Mono',consolas,'Courier New',monospace\"><span style=\"color: #008000; text-decoration-color: #008000\">Dropdown desplegado</span>\n",
       "</pre>\n"
      ],
      "text/plain": [
       "\u001b[32mDropdown desplegado\u001b[0m\n"
      ]
     },
     "metadata": {},
     "output_type": "display_data"
    },
    {
     "data": {
      "text/html": [
       "<pre style=\"white-space:pre;overflow-x:auto;line-height:normal;font-family:Menlo,'DejaVu Sans Mono',consolas,'Courier New',monospace\"><span style=\"color: #008080; text-decoration-color: #008080; font-weight: bold\">Procesando opción ID: af064f355456-</span><span style=\"color: #008080; text-decoration-color: #008080; font-weight: bold\">8</span>\n",
       "</pre>\n"
      ],
      "text/plain": [
       "\u001b[1;36mProcesando opción ID: af064f355456-\u001b[0m\u001b[1;36m8\u001b[0m\n"
      ]
     },
     "metadata": {},
     "output_type": "display_data"
    },
    {
     "data": {
      "text/html": [
       "<pre style=\"white-space:pre;overflow-x:auto;line-height:normal;font-family:Menlo,'DejaVu Sans Mono',consolas,'Courier New',monospace\"><span style=\"color: #008000; text-decoration-color: #008000\">Selección confirmada: af064f355456-</span><span style=\"color: #008000; text-decoration-color: #008000; font-weight: bold\">8</span>\n",
       "</pre>\n"
      ],
      "text/plain": [
       "\u001b[32mSelección confirmada: af064f355456-\u001b[0m\u001b[1;32m8\u001b[0m\n"
      ]
     },
     "metadata": {},
     "output_type": "display_data"
    },
    {
     "data": {
      "text/html": [
       "<pre style=\"white-space:pre;overflow-x:auto;line-height:normal;font-family:Menlo,'DejaVu Sans Mono',consolas,'Courier New',monospace\"><span style=\"color: #008080; text-decoration-color: #008080\">Encontrados </span><span style=\"color: #008080; text-decoration-color: #008080; font-weight: bold\">8</span><span style=\"color: #008080; text-decoration-color: #008080\"> elementos colapsados.</span>\n",
       "</pre>\n"
      ],
      "text/plain": [
       "\u001b[36mEncontrados \u001b[0m\u001b[1;36m8\u001b[0m\u001b[36m elementos colapsados.\u001b[0m\n"
      ]
     },
     "metadata": {},
     "output_type": "display_data"
    },
    {
     "data": {
      "text/html": [
       "<pre style=\"white-space:pre;overflow-x:auto;line-height:normal;font-family:Menlo,'DejaVu Sans Mono',consolas,'Courier New',monospace\"><span style=\"color: #008000; text-decoration-color: #008000; font-weight: bold\">Proceso completado: </span><span style=\"color: #008000; text-decoration-color: #008000; font-weight: bold\">8</span><span style=\"color: #008000; text-decoration-color: #008000; font-weight: bold\"> intentos realizados.</span>\n",
       "</pre>\n"
      ],
      "text/plain": [
       "\u001b[1;32mProceso completado: \u001b[0m\u001b[1;32m8\u001b[0m\u001b[1;32m intentos realizados.\u001b[0m\n"
      ]
     },
     "metadata": {},
     "output_type": "display_data"
    },
    {
     "data": {
      "text/html": [
       "<pre style=\"white-space:pre;overflow-x:auto;line-height:normal;font-family:Menlo,'DejaVu Sans Mono',consolas,'Courier New',monospace\"><span style=\"color: #008000; text-decoration-color: #008000\">Dropdown desplegado</span>\n",
       "</pre>\n"
      ],
      "text/plain": [
       "\u001b[32mDropdown desplegado\u001b[0m\n"
      ]
     },
     "metadata": {},
     "output_type": "display_data"
    },
    {
     "data": {
      "text/html": [
       "<pre style=\"white-space:pre;overflow-x:auto;line-height:normal;font-family:Menlo,'DejaVu Sans Mono',consolas,'Courier New',monospace\"><span style=\"color: #008080; text-decoration-color: #008080; font-weight: bold\">Procesando opción ID: af064f355456-</span><span style=\"color: #008080; text-decoration-color: #008080; font-weight: bold\">9</span>\n",
       "</pre>\n"
      ],
      "text/plain": [
       "\u001b[1;36mProcesando opción ID: af064f355456-\u001b[0m\u001b[1;36m9\u001b[0m\n"
      ]
     },
     "metadata": {},
     "output_type": "display_data"
    },
    {
     "data": {
      "text/html": [
       "<pre style=\"white-space:pre;overflow-x:auto;line-height:normal;font-family:Menlo,'DejaVu Sans Mono',consolas,'Courier New',monospace\"><span style=\"color: #008000; text-decoration-color: #008000\">Selección confirmada: af064f355456-</span><span style=\"color: #008000; text-decoration-color: #008000; font-weight: bold\">9</span>\n",
       "</pre>\n"
      ],
      "text/plain": [
       "\u001b[32mSelección confirmada: af064f355456-\u001b[0m\u001b[1;32m9\u001b[0m\n"
      ]
     },
     "metadata": {},
     "output_type": "display_data"
    },
    {
     "data": {
      "text/html": [
       "<pre style=\"white-space:pre;overflow-x:auto;line-height:normal;font-family:Menlo,'DejaVu Sans Mono',consolas,'Courier New',monospace\"><span style=\"color: #008080; text-decoration-color: #008080\">Encontrados </span><span style=\"color: #008080; text-decoration-color: #008080; font-weight: bold\">8</span><span style=\"color: #008080; text-decoration-color: #008080\"> elementos colapsados.</span>\n",
       "</pre>\n"
      ],
      "text/plain": [
       "\u001b[36mEncontrados \u001b[0m\u001b[1;36m8\u001b[0m\u001b[36m elementos colapsados.\u001b[0m\n"
      ]
     },
     "metadata": {},
     "output_type": "display_data"
    },
    {
     "data": {
      "text/html": [
       "<pre style=\"white-space:pre;overflow-x:auto;line-height:normal;font-family:Menlo,'DejaVu Sans Mono',consolas,'Courier New',monospace\"><span style=\"color: #008000; text-decoration-color: #008000; font-weight: bold\">Proceso completado: </span><span style=\"color: #008000; text-decoration-color: #008000; font-weight: bold\">8</span><span style=\"color: #008000; text-decoration-color: #008000; font-weight: bold\"> intentos realizados.</span>\n",
       "</pre>\n"
      ],
      "text/plain": [
       "\u001b[1;32mProceso completado: \u001b[0m\u001b[1;32m8\u001b[0m\u001b[1;32m intentos realizados.\u001b[0m\n"
      ]
     },
     "metadata": {},
     "output_type": "display_data"
    },
    {
     "data": {
      "text/html": [
       "<pre style=\"white-space:pre;overflow-x:auto;line-height:normal;font-family:Menlo,'DejaVu Sans Mono',consolas,'Courier New',monospace\"><span style=\"color: #008000; text-decoration-color: #008000\">Dropdown desplegado</span>\n",
       "</pre>\n"
      ],
      "text/plain": [
       "\u001b[32mDropdown desplegado\u001b[0m\n"
      ]
     },
     "metadata": {},
     "output_type": "display_data"
    },
    {
     "data": {
      "text/html": [
       "<pre style=\"white-space:pre;overflow-x:auto;line-height:normal;font-family:Menlo,'DejaVu Sans Mono',consolas,'Courier New',monospace\"><span style=\"color: #008080; text-decoration-color: #008080; font-weight: bold\">Procesando opción ID: af064f355456-</span><span style=\"color: #008080; text-decoration-color: #008080; font-weight: bold\">10</span>\n",
       "</pre>\n"
      ],
      "text/plain": [
       "\u001b[1;36mProcesando opción ID: af064f355456-\u001b[0m\u001b[1;36m10\u001b[0m\n"
      ]
     },
     "metadata": {},
     "output_type": "display_data"
    },
    {
     "data": {
      "text/html": [
       "<pre style=\"white-space:pre;overflow-x:auto;line-height:normal;font-family:Menlo,'DejaVu Sans Mono',consolas,'Courier New',monospace\"><span style=\"color: #008000; text-decoration-color: #008000\">Selección confirmada: af064f355456-</span><span style=\"color: #008000; text-decoration-color: #008000; font-weight: bold\">10</span>\n",
       "</pre>\n"
      ],
      "text/plain": [
       "\u001b[32mSelección confirmada: af064f355456-\u001b[0m\u001b[1;32m10\u001b[0m\n"
      ]
     },
     "metadata": {},
     "output_type": "display_data"
    },
    {
     "data": {
      "text/html": [
       "<pre style=\"white-space:pre;overflow-x:auto;line-height:normal;font-family:Menlo,'DejaVu Sans Mono',consolas,'Courier New',monospace\"><span style=\"color: #008080; text-decoration-color: #008080\">Encontrados </span><span style=\"color: #008080; text-decoration-color: #008080; font-weight: bold\">8</span><span style=\"color: #008080; text-decoration-color: #008080\"> elementos colapsados.</span>\n",
       "</pre>\n"
      ],
      "text/plain": [
       "\u001b[36mEncontrados \u001b[0m\u001b[1;36m8\u001b[0m\u001b[36m elementos colapsados.\u001b[0m\n"
      ]
     },
     "metadata": {},
     "output_type": "display_data"
    },
    {
     "data": {
      "text/html": [
       "<pre style=\"white-space:pre;overflow-x:auto;line-height:normal;font-family:Menlo,'DejaVu Sans Mono',consolas,'Courier New',monospace\"><span style=\"color: #008000; text-decoration-color: #008000; font-weight: bold\">Proceso completado: </span><span style=\"color: #008000; text-decoration-color: #008000; font-weight: bold\">8</span><span style=\"color: #008000; text-decoration-color: #008000; font-weight: bold\"> intentos realizados.</span>\n",
       "</pre>\n"
      ],
      "text/plain": [
       "\u001b[1;32mProceso completado: \u001b[0m\u001b[1;32m8\u001b[0m\u001b[1;32m intentos realizados.\u001b[0m\n"
      ]
     },
     "metadata": {},
     "output_type": "display_data"
    },
    {
     "data": {
      "text/html": [
       "<pre style=\"white-space:pre;overflow-x:auto;line-height:normal;font-family:Menlo,'DejaVu Sans Mono',consolas,'Courier New',monospace\"><span style=\"font-weight: bold\">{</span>\n",
       "    <span style=\"color: #008000; text-decoration-color: #008000\">'c6583343-af80-4efb-a3b3-43af08b697d1'</span>: <span style=\"font-weight: bold\">{</span>\n",
       "        <span style=\"color: #008000; text-decoration-color: #008000\">'CHUBB'</span>: <span style=\"font-weight: bold\">{</span><span style=\"color: #008000; text-decoration-color: #008000\">'precio'</span>: <span style=\"color: #008000; text-decoration-color: #008000\">'10952.14'</span>, <span style=\"color: #008000; text-decoration-color: #008000\">'daños_materiales'</span>: <span style=\"font-weight: bold\">[]}</span>,\n",
       "        <span style=\"color: #008000; text-decoration-color: #008000\">'HDI'</span>: <span style=\"font-weight: bold\">{</span>\n",
       "            <span style=\"color: #008000; text-decoration-color: #008000\">'precio'</span>: <span style=\"color: #008000; text-decoration-color: #008000\">'10952.14'</span>,\n",
       "            <span style=\"color: #008000; text-decoration-color: #008000\">'daños_materiales'</span>: <span style=\"font-weight: bold\">[</span>\n",
       "                <span style=\"color: #008000; text-decoration-color: #008000\">'Colisiones, vuelcos y estrellamientos'</span>,\n",
       "                <span style=\"color: #008000; text-decoration-color: #008000\">'Rotura de cristales'</span>,\n",
       "                <span style=\"color: #008000; text-decoration-color: #008000\">'Incendio, rayo y explosión'</span>,\n",
       "                <span style=\"color: #008000; text-decoration-color: #008000\">'Catástrofes naturales'</span>,\n",
       "                <span style=\"color: #008000; text-decoration-color: #008000\">'Paros, mítines, huelgas o disturbios'</span>,\n",
       "                <span style=\"color: #008000; text-decoration-color: #008000\">'Daños al transportar el vehículo asegurado'</span>,\n",
       "                <span style=\"color: #008000; text-decoration-color: #008000\">'Penetración de agua al motor'</span>\n",
       "            <span style=\"font-weight: bold\">]</span>\n",
       "        <span style=\"font-weight: bold\">}</span>,\n",
       "        <span style=\"color: #008000; text-decoration-color: #008000\">'QUÁLITAS'</span>: <span style=\"font-weight: bold\">{</span>\n",
       "            <span style=\"color: #008000; text-decoration-color: #008000\">'precio'</span>: <span style=\"color: #008000; text-decoration-color: #008000\">'9927.00'</span>,\n",
       "            <span style=\"color: #008000; text-decoration-color: #008000\">'daños_materiales'</span>: <span style=\"font-weight: bold\">[</span>\n",
       "                <span style=\"color: #008000; text-decoration-color: #008000\">'Colisiones, vuelcos y estrellamientos'</span>,\n",
       "                <span style=\"color: #008000; text-decoration-color: #008000\">'Rotura de cristales'</span>,\n",
       "                <span style=\"color: #008000; text-decoration-color: #008000\">'Incendio, rayo y explosión'</span>,\n",
       "                <span style=\"color: #008000; text-decoration-color: #008000\">'Catástrofes naturales'</span>,\n",
       "                <span style=\"color: #008000; text-decoration-color: #008000\">'Paros, mítines, huelgas o disturbios'</span>,\n",
       "                <span style=\"color: #008000; text-decoration-color: #008000\">'Daños al transportar el vehículo asegurado'</span>,\n",
       "                <span style=\"color: #008000; text-decoration-color: #008000\">'Penetración de agua al motor'</span>\n",
       "            <span style=\"font-weight: bold\">]</span>\n",
       "        <span style=\"font-weight: bold\">}</span>,\n",
       "        <span style=\"color: #008000; text-decoration-color: #008000\">'INBURSA'</span>: <span style=\"font-weight: bold\">{</span>\n",
       "            <span style=\"color: #008000; text-decoration-color: #008000\">'precio'</span>: <span style=\"color: #008000; text-decoration-color: #008000\">'11422.60'</span>,\n",
       "            <span style=\"color: #008000; text-decoration-color: #008000\">'daños_materiales'</span>: <span style=\"font-weight: bold\">[</span>\n",
       "                <span style=\"color: #008000; text-decoration-color: #008000\">'Colisiones, vuelcos y estrellamientos'</span>,\n",
       "                <span style=\"color: #008000; text-decoration-color: #008000\">'Rotura de cristales'</span>,\n",
       "                <span style=\"color: #008000; text-decoration-color: #008000\">'Incendio, rayo y explosión'</span>,\n",
       "                <span style=\"color: #008000; text-decoration-color: #008000\">'Catástrofes naturales'</span>,\n",
       "                <span style=\"color: #008000; text-decoration-color: #008000\">'Paros, mítines, huelgas o disturbios'</span>,\n",
       "                <span style=\"color: #008000; text-decoration-color: #008000\">'Daños al transportar el vehículo asegurado'</span>,\n",
       "                <span style=\"color: #008000; text-decoration-color: #008000\">'Penetración de agua al motor'</span>\n",
       "            <span style=\"font-weight: bold\">]</span>\n",
       "        <span style=\"font-weight: bold\">}</span>,\n",
       "        <span style=\"color: #008000; text-decoration-color: #008000\">'ZURICH'</span>: <span style=\"font-weight: bold\">{</span>\n",
       "            <span style=\"color: #008000; text-decoration-color: #008000\">'precio'</span>: <span style=\"color: #008000; text-decoration-color: #008000\">'11772.96'</span>,\n",
       "            <span style=\"color: #008000; text-decoration-color: #008000\">'daños_materiales'</span>: <span style=\"font-weight: bold\">[</span>\n",
       "                <span style=\"color: #008000; text-decoration-color: #008000\">'Colisiones, vuelcos y estrellamientos'</span>,\n",
       "                <span style=\"color: #008000; text-decoration-color: #008000\">'Rotura de cristales'</span>,\n",
       "                <span style=\"color: #008000; text-decoration-color: #008000\">'Incendio, rayo y explosión'</span>,\n",
       "                <span style=\"color: #008000; text-decoration-color: #008000\">'Catástrofes naturales'</span>,\n",
       "                <span style=\"color: #008000; text-decoration-color: #008000\">'Paros, mítines, huelgas o disturbios'</span>,\n",
       "                <span style=\"color: #008000; text-decoration-color: #008000\">'Daños al transportar el vehículo asegurado'</span>,\n",
       "                <span style=\"color: #008000; text-decoration-color: #008000\">'Penetración de agua al motor'</span>\n",
       "            <span style=\"font-weight: bold\">]</span>\n",
       "        <span style=\"font-weight: bold\">}</span>,\n",
       "        <span style=\"color: #008000; text-decoration-color: #008000\">'ANA'</span>: <span style=\"font-weight: bold\">{</span>\n",
       "            <span style=\"color: #008000; text-decoration-color: #008000\">'precio'</span>: <span style=\"color: #008000; text-decoration-color: #008000\">'12057.34'</span>,\n",
       "            <span style=\"color: #008000; text-decoration-color: #008000\">'daños_materiales'</span>: <span style=\"font-weight: bold\">[</span>\n",
       "                <span style=\"color: #008000; text-decoration-color: #008000\">'Colisiones, vuelcos y estrellamientos'</span>,\n",
       "                <span style=\"color: #008000; text-decoration-color: #008000\">'Rotura de cristales'</span>,\n",
       "                <span style=\"color: #008000; text-decoration-color: #008000\">'Incendio, rayo y explosión'</span>,\n",
       "                <span style=\"color: #008000; text-decoration-color: #008000\">'Catástrofes naturales'</span>,\n",
       "                <span style=\"color: #008000; text-decoration-color: #008000\">'Paros, mítines, huelgas o disturbios'</span>,\n",
       "                <span style=\"color: #008000; text-decoration-color: #008000\">'Daños al transportar el vehículo asegurado'</span>,\n",
       "                <span style=\"color: #008000; text-decoration-color: #008000\">'Penetración de agua al motor'</span>\n",
       "            <span style=\"font-weight: bold\">]</span>\n",
       "        <span style=\"font-weight: bold\">}</span>,\n",
       "        <span style=\"color: #008000; text-decoration-color: #008000\">'ATLAS'</span>: <span style=\"font-weight: bold\">{</span>\n",
       "            <span style=\"color: #008000; text-decoration-color: #008000\">'precio'</span>: <span style=\"color: #008000; text-decoration-color: #008000\">'12104.15'</span>,\n",
       "            <span style=\"color: #008000; text-decoration-color: #008000\">'daños_materiales'</span>: <span style=\"font-weight: bold\">[</span>\n",
       "                <span style=\"color: #008000; text-decoration-color: #008000\">'Colisiones, vuelcos y estrellamientos'</span>,\n",
       "                <span style=\"color: #008000; text-decoration-color: #008000\">'Rotura de cristales'</span>,\n",
       "                <span style=\"color: #008000; text-decoration-color: #008000\">'Incendio, rayo y explosión'</span>,\n",
       "                <span style=\"color: #008000; text-decoration-color: #008000\">'Catástrofes naturales'</span>,\n",
       "                <span style=\"color: #008000; text-decoration-color: #008000\">'Paros, mítines, huelgas o disturbios'</span>,\n",
       "                <span style=\"color: #008000; text-decoration-color: #008000\">'Daños al transportar el vehículo asegurado'</span>,\n",
       "                <span style=\"color: #008000; text-decoration-color: #008000\">'Penetración de agua al motor'</span>\n",
       "            <span style=\"font-weight: bold\">]</span>\n",
       "        <span style=\"font-weight: bold\">}</span>,\n",
       "        <span style=\"color: #008000; text-decoration-color: #008000\">'GNP'</span>: <span style=\"font-weight: bold\">{</span>\n",
       "            <span style=\"color: #008000; text-decoration-color: #008000\">'precio'</span>: <span style=\"color: #008000; text-decoration-color: #008000\">'12133.23'</span>,\n",
       "            <span style=\"color: #008000; text-decoration-color: #008000\">'daños_materiales'</span>: <span style=\"font-weight: bold\">[</span>\n",
       "                <span style=\"color: #008000; text-decoration-color: #008000\">'Colisiones, vuelcos y estrellamientos'</span>,\n",
       "                <span style=\"color: #008000; text-decoration-color: #008000\">'Rotura de cristales'</span>,\n",
       "                <span style=\"color: #008000; text-decoration-color: #008000\">'Incendio, rayo y explosión'</span>,\n",
       "                <span style=\"color: #008000; text-decoration-color: #008000\">'Catástrofes naturales'</span>,\n",
       "                <span style=\"color: #008000; text-decoration-color: #008000\">'Paros, mítines, huelgas o disturbios'</span>,\n",
       "                <span style=\"color: #008000; text-decoration-color: #008000\">'Daños al transportar el vehículo asegurado'</span>,\n",
       "                <span style=\"color: #008000; text-decoration-color: #008000\">'Penetración de agua al motor'</span>\n",
       "            <span style=\"font-weight: bold\">]</span>\n",
       "        <span style=\"font-weight: bold\">}</span>,\n",
       "        <span style=\"color: #008000; text-decoration-color: #008000\">'MAPFRE'</span>: <span style=\"font-weight: bold\">{</span>\n",
       "            <span style=\"color: #008000; text-decoration-color: #008000\">'precio'</span>: <span style=\"color: #008000; text-decoration-color: #008000\">'14943.02'</span>,\n",
       "            <span style=\"color: #008000; text-decoration-color: #008000\">'daños_materiales'</span>: <span style=\"font-weight: bold\">[</span>\n",
       "                <span style=\"color: #008000; text-decoration-color: #008000\">'Colisiones, vuelcos y estrellamientos'</span>,\n",
       "                <span style=\"color: #008000; text-decoration-color: #008000\">'Rotura de cristales'</span>,\n",
       "                <span style=\"color: #008000; text-decoration-color: #008000\">'Incendio, rayo y explosión'</span>,\n",
       "                <span style=\"color: #008000; text-decoration-color: #008000\">'Catástrofes naturales'</span>,\n",
       "                <span style=\"color: #008000; text-decoration-color: #008000\">'Paros, mítines, huelgas o disturbios'</span>,\n",
       "                <span style=\"color: #008000; text-decoration-color: #008000\">'Daños al transportar el vehículo asegurado'</span>,\n",
       "                <span style=\"color: #008000; text-decoration-color: #008000\">'Penetración de agua al motor'</span>\n",
       "            <span style=\"font-weight: bold\">]</span>\n",
       "        <span style=\"font-weight: bold\">}</span>,\n",
       "        <span style=\"color: #008000; text-decoration-color: #008000\">'AIG'</span>: <span style=\"font-weight: bold\">{</span>\n",
       "            <span style=\"color: #008000; text-decoration-color: #008000\">'precio'</span>: <span style=\"color: #008000; text-decoration-color: #008000\">'17114.73'</span>,\n",
       "            <span style=\"color: #008000; text-decoration-color: #008000\">'daños_materiales'</span>: <span style=\"font-weight: bold\">[</span>\n",
       "                <span style=\"color: #008000; text-decoration-color: #008000\">'Colisiones, vuelcos y estrellamientos'</span>,\n",
       "                <span style=\"color: #008000; text-decoration-color: #008000\">'Rotura de cristales'</span>,\n",
       "                <span style=\"color: #008000; text-decoration-color: #008000\">'Incendio, rayo y explosión'</span>,\n",
       "                <span style=\"color: #008000; text-decoration-color: #008000\">'Catástrofes naturales'</span>,\n",
       "                <span style=\"color: #008000; text-decoration-color: #008000\">'Paros, mítines, huelgas o disturbios'</span>,\n",
       "                <span style=\"color: #008000; text-decoration-color: #008000\">'Daños al transportar el vehículo asegurado'</span>,\n",
       "                <span style=\"color: #008000; text-decoration-color: #008000\">'Penetración de agua al motor'</span>\n",
       "            <span style=\"font-weight: bold\">]</span>\n",
       "        <span style=\"font-weight: bold\">}</span>,\n",
       "        <span style=\"color: #008000; text-decoration-color: #008000\">'AXA'</span>: <span style=\"font-weight: bold\">{</span>\n",
       "            <span style=\"color: #008000; text-decoration-color: #008000\">'precio'</span>: <span style=\"color: #008000; text-decoration-color: #008000\">'21870.33'</span>,\n",
       "            <span style=\"color: #008000; text-decoration-color: #008000\">'daños_materiales'</span>: <span style=\"font-weight: bold\">[</span>\n",
       "                <span style=\"color: #008000; text-decoration-color: #008000\">'Colisiones, vuelcos y estrellamientos'</span>,\n",
       "                <span style=\"color: #008000; text-decoration-color: #008000\">'Rotura de cristales'</span>,\n",
       "                <span style=\"color: #008000; text-decoration-color: #008000\">'Incendio, rayo y explosión'</span>,\n",
       "                <span style=\"color: #008000; text-decoration-color: #008000\">'Catástrofes naturales'</span>,\n",
       "                <span style=\"color: #008000; text-decoration-color: #008000\">'Paros, mítines, huelgas o disturbios'</span>,\n",
       "                <span style=\"color: #008000; text-decoration-color: #008000\">'Daños al transportar el vehículo asegurado'</span>,\n",
       "                <span style=\"color: #008000; text-decoration-color: #008000\">'Penetración de agua al motor'</span>\n",
       "            <span style=\"font-weight: bold\">]</span>\n",
       "        <span style=\"font-weight: bold\">}</span>\n",
       "    <span style=\"font-weight: bold\">}</span>\n",
       "<span style=\"font-weight: bold\">}</span>\n",
       "</pre>\n"
      ],
      "text/plain": [
       "\u001b[1m{\u001b[0m\n",
       "    \u001b[32m'c6583343-af80-4efb-a3b3-43af08b697d1'\u001b[0m: \u001b[1m{\u001b[0m\n",
       "        \u001b[32m'CHUBB'\u001b[0m: \u001b[1m{\u001b[0m\u001b[32m'precio'\u001b[0m: \u001b[32m'10952.14'\u001b[0m, \u001b[32m'daños_materiales'\u001b[0m: \u001b[1m[\u001b[0m\u001b[1m]\u001b[0m\u001b[1m}\u001b[0m,\n",
       "        \u001b[32m'HDI'\u001b[0m: \u001b[1m{\u001b[0m\n",
       "            \u001b[32m'precio'\u001b[0m: \u001b[32m'10952.14'\u001b[0m,\n",
       "            \u001b[32m'daños_materiales'\u001b[0m: \u001b[1m[\u001b[0m\n",
       "                \u001b[32m'Colisiones, vuelcos y estrellamientos'\u001b[0m,\n",
       "                \u001b[32m'Rotura de cristales'\u001b[0m,\n",
       "                \u001b[32m'Incendio, rayo y explosión'\u001b[0m,\n",
       "                \u001b[32m'Catástrofes naturales'\u001b[0m,\n",
       "                \u001b[32m'Paros, mítines, huelgas o disturbios'\u001b[0m,\n",
       "                \u001b[32m'Daños al transportar el vehículo asegurado'\u001b[0m,\n",
       "                \u001b[32m'Penetración de agua al motor'\u001b[0m\n",
       "            \u001b[1m]\u001b[0m\n",
       "        \u001b[1m}\u001b[0m,\n",
       "        \u001b[32m'QUÁLITAS'\u001b[0m: \u001b[1m{\u001b[0m\n",
       "            \u001b[32m'precio'\u001b[0m: \u001b[32m'9927.00'\u001b[0m,\n",
       "            \u001b[32m'daños_materiales'\u001b[0m: \u001b[1m[\u001b[0m\n",
       "                \u001b[32m'Colisiones, vuelcos y estrellamientos'\u001b[0m,\n",
       "                \u001b[32m'Rotura de cristales'\u001b[0m,\n",
       "                \u001b[32m'Incendio, rayo y explosión'\u001b[0m,\n",
       "                \u001b[32m'Catástrofes naturales'\u001b[0m,\n",
       "                \u001b[32m'Paros, mítines, huelgas o disturbios'\u001b[0m,\n",
       "                \u001b[32m'Daños al transportar el vehículo asegurado'\u001b[0m,\n",
       "                \u001b[32m'Penetración de agua al motor'\u001b[0m\n",
       "            \u001b[1m]\u001b[0m\n",
       "        \u001b[1m}\u001b[0m,\n",
       "        \u001b[32m'INBURSA'\u001b[0m: \u001b[1m{\u001b[0m\n",
       "            \u001b[32m'precio'\u001b[0m: \u001b[32m'11422.60'\u001b[0m,\n",
       "            \u001b[32m'daños_materiales'\u001b[0m: \u001b[1m[\u001b[0m\n",
       "                \u001b[32m'Colisiones, vuelcos y estrellamientos'\u001b[0m,\n",
       "                \u001b[32m'Rotura de cristales'\u001b[0m,\n",
       "                \u001b[32m'Incendio, rayo y explosión'\u001b[0m,\n",
       "                \u001b[32m'Catástrofes naturales'\u001b[0m,\n",
       "                \u001b[32m'Paros, mítines, huelgas o disturbios'\u001b[0m,\n",
       "                \u001b[32m'Daños al transportar el vehículo asegurado'\u001b[0m,\n",
       "                \u001b[32m'Penetración de agua al motor'\u001b[0m\n",
       "            \u001b[1m]\u001b[0m\n",
       "        \u001b[1m}\u001b[0m,\n",
       "        \u001b[32m'ZURICH'\u001b[0m: \u001b[1m{\u001b[0m\n",
       "            \u001b[32m'precio'\u001b[0m: \u001b[32m'11772.96'\u001b[0m,\n",
       "            \u001b[32m'daños_materiales'\u001b[0m: \u001b[1m[\u001b[0m\n",
       "                \u001b[32m'Colisiones, vuelcos y estrellamientos'\u001b[0m,\n",
       "                \u001b[32m'Rotura de cristales'\u001b[0m,\n",
       "                \u001b[32m'Incendio, rayo y explosión'\u001b[0m,\n",
       "                \u001b[32m'Catástrofes naturales'\u001b[0m,\n",
       "                \u001b[32m'Paros, mítines, huelgas o disturbios'\u001b[0m,\n",
       "                \u001b[32m'Daños al transportar el vehículo asegurado'\u001b[0m,\n",
       "                \u001b[32m'Penetración de agua al motor'\u001b[0m\n",
       "            \u001b[1m]\u001b[0m\n",
       "        \u001b[1m}\u001b[0m,\n",
       "        \u001b[32m'ANA'\u001b[0m: \u001b[1m{\u001b[0m\n",
       "            \u001b[32m'precio'\u001b[0m: \u001b[32m'12057.34'\u001b[0m,\n",
       "            \u001b[32m'daños_materiales'\u001b[0m: \u001b[1m[\u001b[0m\n",
       "                \u001b[32m'Colisiones, vuelcos y estrellamientos'\u001b[0m,\n",
       "                \u001b[32m'Rotura de cristales'\u001b[0m,\n",
       "                \u001b[32m'Incendio, rayo y explosión'\u001b[0m,\n",
       "                \u001b[32m'Catástrofes naturales'\u001b[0m,\n",
       "                \u001b[32m'Paros, mítines, huelgas o disturbios'\u001b[0m,\n",
       "                \u001b[32m'Daños al transportar el vehículo asegurado'\u001b[0m,\n",
       "                \u001b[32m'Penetración de agua al motor'\u001b[0m\n",
       "            \u001b[1m]\u001b[0m\n",
       "        \u001b[1m}\u001b[0m,\n",
       "        \u001b[32m'ATLAS'\u001b[0m: \u001b[1m{\u001b[0m\n",
       "            \u001b[32m'precio'\u001b[0m: \u001b[32m'12104.15'\u001b[0m,\n",
       "            \u001b[32m'daños_materiales'\u001b[0m: \u001b[1m[\u001b[0m\n",
       "                \u001b[32m'Colisiones, vuelcos y estrellamientos'\u001b[0m,\n",
       "                \u001b[32m'Rotura de cristales'\u001b[0m,\n",
       "                \u001b[32m'Incendio, rayo y explosión'\u001b[0m,\n",
       "                \u001b[32m'Catástrofes naturales'\u001b[0m,\n",
       "                \u001b[32m'Paros, mítines, huelgas o disturbios'\u001b[0m,\n",
       "                \u001b[32m'Daños al transportar el vehículo asegurado'\u001b[0m,\n",
       "                \u001b[32m'Penetración de agua al motor'\u001b[0m\n",
       "            \u001b[1m]\u001b[0m\n",
       "        \u001b[1m}\u001b[0m,\n",
       "        \u001b[32m'GNP'\u001b[0m: \u001b[1m{\u001b[0m\n",
       "            \u001b[32m'precio'\u001b[0m: \u001b[32m'12133.23'\u001b[0m,\n",
       "            \u001b[32m'daños_materiales'\u001b[0m: \u001b[1m[\u001b[0m\n",
       "                \u001b[32m'Colisiones, vuelcos y estrellamientos'\u001b[0m,\n",
       "                \u001b[32m'Rotura de cristales'\u001b[0m,\n",
       "                \u001b[32m'Incendio, rayo y explosión'\u001b[0m,\n",
       "                \u001b[32m'Catástrofes naturales'\u001b[0m,\n",
       "                \u001b[32m'Paros, mítines, huelgas o disturbios'\u001b[0m,\n",
       "                \u001b[32m'Daños al transportar el vehículo asegurado'\u001b[0m,\n",
       "                \u001b[32m'Penetración de agua al motor'\u001b[0m\n",
       "            \u001b[1m]\u001b[0m\n",
       "        \u001b[1m}\u001b[0m,\n",
       "        \u001b[32m'MAPFRE'\u001b[0m: \u001b[1m{\u001b[0m\n",
       "            \u001b[32m'precio'\u001b[0m: \u001b[32m'14943.02'\u001b[0m,\n",
       "            \u001b[32m'daños_materiales'\u001b[0m: \u001b[1m[\u001b[0m\n",
       "                \u001b[32m'Colisiones, vuelcos y estrellamientos'\u001b[0m,\n",
       "                \u001b[32m'Rotura de cristales'\u001b[0m,\n",
       "                \u001b[32m'Incendio, rayo y explosión'\u001b[0m,\n",
       "                \u001b[32m'Catástrofes naturales'\u001b[0m,\n",
       "                \u001b[32m'Paros, mítines, huelgas o disturbios'\u001b[0m,\n",
       "                \u001b[32m'Daños al transportar el vehículo asegurado'\u001b[0m,\n",
       "                \u001b[32m'Penetración de agua al motor'\u001b[0m\n",
       "            \u001b[1m]\u001b[0m\n",
       "        \u001b[1m}\u001b[0m,\n",
       "        \u001b[32m'AIG'\u001b[0m: \u001b[1m{\u001b[0m\n",
       "            \u001b[32m'precio'\u001b[0m: \u001b[32m'17114.73'\u001b[0m,\n",
       "            \u001b[32m'daños_materiales'\u001b[0m: \u001b[1m[\u001b[0m\n",
       "                \u001b[32m'Colisiones, vuelcos y estrellamientos'\u001b[0m,\n",
       "                \u001b[32m'Rotura de cristales'\u001b[0m,\n",
       "                \u001b[32m'Incendio, rayo y explosión'\u001b[0m,\n",
       "                \u001b[32m'Catástrofes naturales'\u001b[0m,\n",
       "                \u001b[32m'Paros, mítines, huelgas o disturbios'\u001b[0m,\n",
       "                \u001b[32m'Daños al transportar el vehículo asegurado'\u001b[0m,\n",
       "                \u001b[32m'Penetración de agua al motor'\u001b[0m\n",
       "            \u001b[1m]\u001b[0m\n",
       "        \u001b[1m}\u001b[0m,\n",
       "        \u001b[32m'AXA'\u001b[0m: \u001b[1m{\u001b[0m\n",
       "            \u001b[32m'precio'\u001b[0m: \u001b[32m'21870.33'\u001b[0m,\n",
       "            \u001b[32m'daños_materiales'\u001b[0m: \u001b[1m[\u001b[0m\n",
       "                \u001b[32m'Colisiones, vuelcos y estrellamientos'\u001b[0m,\n",
       "                \u001b[32m'Rotura de cristales'\u001b[0m,\n",
       "                \u001b[32m'Incendio, rayo y explosión'\u001b[0m,\n",
       "                \u001b[32m'Catástrofes naturales'\u001b[0m,\n",
       "                \u001b[32m'Paros, mítines, huelgas o disturbios'\u001b[0m,\n",
       "                \u001b[32m'Daños al transportar el vehículo asegurado'\u001b[0m,\n",
       "                \u001b[32m'Penetración de agua al motor'\u001b[0m\n",
       "            \u001b[1m]\u001b[0m\n",
       "        \u001b[1m}\u001b[0m\n",
       "    \u001b[1m}\u001b[0m\n",
       "\u001b[1m}\u001b[0m\n"
      ]
     },
     "metadata": {},
     "output_type": "display_data"
    }
   ],
   "source": [
    "print(extract_informacion(driver, aseguradoras))"
   ]
  },
  {
   "cell_type": "code",
   "execution_count": null,
   "id": "1c18208a",
   "metadata": {},
   "outputs": [],
   "source": [
    "def extraer_tiempo_pago_robo(driver):\n",
    "    try:\n",
    "        # Localizar la sección por el título específico\n",
    "        seccion_tiempo_pago = WebDriverWait(driver, 20).until(\n",
    "            EC.presence_of_element_located((\n",
    "                By.XPATH,\n",
    "                \"//p[@class='subtitle mb-0' and contains(text(), 'Tiempo de pago de indemnización')]\"\n",
    "                \"/ancestor::div[contains(@class, 'cont-servicios')]\"\n",
    "            ))\n",
    "        )\n",
    "        \n",
    "        # Extraer el texto del tiempo de pago\n",
    "        tiempo_pago = seccion_tiempo_pago.find_element(\n",
    "            By.XPATH,\n",
    "            \".//p[@class='description']\"\n",
    "        ).text.strip()\n",
    "        \n",
    "        return tiempo_pago\n",
    "    \n",
    "    except Exception as e:\n",
    "        \n",
    "        return None"
   ]
  },
  {
   "cell_type": "code",
   "execution_count": 31,
   "id": "0ffc682a",
   "metadata": {},
   "outputs": [
    {
     "data": {
      "text/html": [
       "<pre style=\"white-space:pre;overflow-x:auto;line-height:normal;font-family:Menlo,'DejaVu Sans Mono',consolas,'Courier New',monospace\"><span style=\"color: #008080; text-decoration-color: #008080; font-weight: bold\">5</span> días\n",
       "</pre>\n"
      ],
      "text/plain": [
       "\u001b[1;36m5\u001b[0m días\n"
      ]
     },
     "metadata": {},
     "output_type": "display_data"
    }
   ],
   "source": [
    "timepo_pago=extraer_tiempo_pago_robo(driver)\n",
    "print(timepo_pago)"
   ]
  },
  {
   "cell_type": "code",
   "execution_count": 32,
   "id": "1e9c2451",
   "metadata": {},
   "outputs": [],
   "source": [
    "def extraer_extension_responsabilidad_civil(driver):\n",
    "    try:\n",
    "        # Esperar a que el título sea visible\n",
    "        WebDriverWait(driver, 15).until(\n",
    "            EC.visibility_of_element_located((\n",
    "                By.XPATH, \n",
    "                \"//p[contains(@class, 'subtitle') and contains(text(), 'Extensión de Responsabilidad Civil')]\"\n",
    "            ))\n",
    "        )\n",
    "        \n",
    "        # Localizar la columna de contenido específica\n",
    "        columna_contenido = driver.find_element(\n",
    "            By.XPATH,\n",
    "            \"//p[@class='subtitle mb-0' and contains(text(), 'Extensión de Responsabilidad Civil')]\"\n",
    "            \"/ancestor::div[contains(@class, 'cont-servicios')]\"\n",
    "            \"//div[contains(@class, 'col-5')]\"\n",
    "        )\n",
    "        \n",
    "        # Extraer todos los elementos de descripción\n",
    "        elementos = columna_contenido.find_elements(By.XPATH, \".//p[@class='description']\")\n",
    "        \n",
    "        return list({elem.text.strip() for elem in elementos if elem.text.strip()})\n",
    "        \n",
    "    except TimeoutException:\n",
    "        print(\"[yellow]Sección de Responsabilidad Civil no encontrada - puede que no esté presente[/]\")\n",
    "        return []\n",
    "    except NoSuchElementException:\n",
    "        print(\"[yellow]Elementos específicos no encontrados en la sección[/]\")\n",
    "        return []\n",
    "    except Exception as e:\n",
    "        print(f\"[red]Error inesperado: {str(e)}[/]\")\n",
    "        driver.save_screenshot(\"error_inesperado_responsabilidad.png\")\n",
    "        return []"
   ]
  },
  {
   "cell_type": "code",
   "execution_count": 33,
   "id": "5feb18b1",
   "metadata": {},
   "outputs": [
    {
     "data": {
      "text/html": [
       "<pre style=\"white-space:pre;overflow-x:auto;line-height:normal;font-family:Menlo,'DejaVu Sans Mono',consolas,'Courier New',monospace\"><span style=\"font-weight: bold\">[</span>\n",
       "    <span style=\"color: #008000; text-decoration-color: #008000\">'Asistencia Legal'</span>,\n",
       "    <span style=\"color: #008000; text-decoration-color: #008000\">'Daños materiales a terceros'</span>,\n",
       "    <span style=\"color: #008000; text-decoration-color: #008000\">'Asistencia Vial'</span>,\n",
       "    <span style=\"color: #008000; text-decoration-color: #008000\">'Te protege aún cuando manejes otro vehículo que no este asegurado y sea de similares características al </span>\n",
       "<span style=\"color: #008000; text-decoration-color: #008000\">amparado'</span>\n",
       "<span style=\"font-weight: bold\">]</span>\n",
       "</pre>\n"
      ],
      "text/plain": [
       "\u001b[1m[\u001b[0m\n",
       "    \u001b[32m'Asistencia Legal'\u001b[0m,\n",
       "    \u001b[32m'Daños materiales a terceros'\u001b[0m,\n",
       "    \u001b[32m'Asistencia Vial'\u001b[0m,\n",
       "    \u001b[32m'Te protege aún cuando manejes otro vehículo que no este asegurado y sea de similares características al \u001b[0m\n",
       "\u001b[32mamparado'\u001b[0m\n",
       "\u001b[1m]\u001b[0m\n"
      ]
     },
     "metadata": {},
     "output_type": "display_data"
    }
   ],
   "source": [
    "responsabilidad_civil=extraer_extension_responsabilidad_civil(driver)\n",
    "print(responsabilidad_civil)"
   ]
  },
  {
   "cell_type": "code",
   "execution_count": 40,
   "id": "a523064f",
   "metadata": {},
   "outputs": [],
   "source": [
    "def extraer_gastos_medicos(driver):\n",
    "    try:\n",
    "        # Localizar la sección específica con el título \"Coberturas\" centrado\n",
    "        seccion_gastos_medicos = WebDriverWait(driver, 20).until(\n",
    "            EC.presence_of_element_located((\n",
    "                By.XPATH,\n",
    "                \"//div[contains(@class, 'cont-servicios') and .//div[contains(@class, 'd-flex justify-content-center') and .//p[text()='Coberturas']]]\"\n",
    "            ))\n",
    "        )\n",
    "        \n",
    "        # Extraer todas las coberturas médicas de la columna específica\n",
    "        coberturas = seccion_gastos_medicos.find_elements(\n",
    "            By.XPATH,\n",
    "            \".//div[contains(@class, 'col-5')]//p[@class='description']\"\n",
    "        )\n",
    "        \n",
    "        # Procesar los textos\n",
    "        lista_coberturas = [elemento.text.strip() for elemento in coberturas if elemento.text.strip()]\n",
    "        return list(set(lista_coberturas))  # Eliminar duplicados si los hay\n",
    "    \n",
    "    except Exception as e:\n",
    "        print(f\"[red]Error extrayendo gastos médicos: {str(e)}[/]\")\n",
    "        driver.save_screenshot(\"error_gastos_medicos.png\")\n",
    "        return []"
   ]
  },
  {
   "cell_type": "code",
   "execution_count": 41,
   "id": "c13491de",
   "metadata": {},
   "outputs": [
    {
     "data": {
      "text/html": [
       "<pre style=\"white-space:pre;overflow-x:auto;line-height:normal;font-family:Menlo,'DejaVu Sans Mono',consolas,'Courier New',monospace\"><span style=\"font-weight: bold\">[</span><span style=\"color: #008000; text-decoration-color: #008000\">'Hospitalización'</span>, <span style=\"color: #008000; text-decoration-color: #008000\">'Servicio de ambulancia'</span>, <span style=\"color: #008000; text-decoration-color: #008000\">'Atención médica'</span>, <span style=\"color: #008000; text-decoration-color: #008000\">'Gastos de entierro'</span>, <span style=\"color: #008000; text-decoration-color: #008000\">'Medicinas'</span>, <span style=\"color: #008000; text-decoration-color: #008000\">'Enfermeros'</span><span style=\"font-weight: bold\">]</span>\n",
       "</pre>\n"
      ],
      "text/plain": [
       "\u001b[1m[\u001b[0m\u001b[32m'Hospitalización'\u001b[0m, \u001b[32m'Servicio de ambulancia'\u001b[0m, \u001b[32m'Atención médica'\u001b[0m, \u001b[32m'Gastos de entierro'\u001b[0m, \u001b[32m'Medicinas'\u001b[0m, \u001b[32m'Enfermeros'\u001b[0m\u001b[1m]\u001b[0m\n"
      ]
     },
     "metadata": {},
     "output_type": "display_data"
    }
   ],
   "source": [
    "medicos=extraer_gastos_medicos(driver)\n",
    "print(medicos)"
   ]
  },
  {
   "cell_type": "code",
   "execution_count": 46,
   "id": "43b346e4",
   "metadata": {},
   "outputs": [],
   "source": [
    "import json\n",
    "import pandas as pd\n",
    "from openpyxl import Workbook\n",
    "from openpyxl.utils.dataframe import dataframe_to_rows\n",
    "\n",
    "def json_to_excel(json_data, output_file):\n",
    "    # Obtener el ID principal y los datos\n",
    "    cotizacion_id = list(json_data.keys())[0]\n",
    "    datos_generales = json_data[cotizacion_id]\n",
    "    \n",
    "    # Crear un nuevo libro de Excel\n",
    "    wb = Workbook()\n",
    "    \n",
    "    # ======================================================\n",
    "    # Hoja 1: Detalles Generales\n",
    "    # ======================================================\n",
    "    if 'ws' in wb.sheetnames:\n",
    "        ws_general = wb['ws']\n",
    "        wb.remove(ws_general)\n",
    "    ws_general = wb.create_sheet(\"Detalles Generales\")\n",
    "    \n",
    "    # Preparar datos generales\n",
    "    general_data = {\n",
    "        \"ID\": [cotizacion_id],\n",
    "        \"Versión Autocompara\": [datos_generales[\"Versión Autocompara \"]],\n",
    "        \"Carrocerías\": [datos_generales[\"Carrocerías\"]],\n",
    "        \"Tipo\": [datos_generales[\"Tipo\"]],\n",
    "        \"Descripción\": [datos_generales[\"Desc\"]],\n",
    "        \"Año Modelo\": [datos_generales[\"Año Mod\"]],\n",
    "        \"CP\": [datos_generales[\"CP\"]],\n",
    "        \"Ciudad\": [datos_generales[\"Ciudad\"]],\n",
    "        \"Entidad\": [datos_generales[\"Entidad\"]],\n",
    "        \"Género\": [datos_generales[\"Género\"]],\n",
    "        \"Edad\": [datos_generales[\"Edad\"]],\n",
    "        \"Fecha Nacimiento\": [datos_generales[\"Fecha Nacimiento\"]],\n",
    "    }\n",
    "    \n",
    "    # Añadir precios de aseguradoras\n",
    "    aseguradoras = [\"CHUBB\", \"HDI\", \"ATLAS\", \"ZURICH\", \"MAPFRE\", \n",
    "                   \"GNP\", \"INBURSA\", \"ANA\", \"AIG\", \"QUÁLITAS\", \"AXA\"]\n",
    "    \n",
    "    for aseguradora in aseguradoras:\n",
    "        if aseguradora in datos_generales:\n",
    "            precio = datos_generales[aseguradora][\"precio\"]\n",
    "            general_data[aseguradora] = [float(precio)]\n",
    "        else:\n",
    "            general_data[aseguradora] = [None]\n",
    "    \n",
    "    # Crear DataFrame y escribir en hoja\n",
    "    df_general = pd.DataFrame(general_data)\n",
    "    for r_idx, row in enumerate(dataframe_to_rows(df_general, index=False, header=True), 1):\n",
    "        ws_general.append(row)\n",
    "    \n",
    "    # Formatear encabezados\n",
    "    for cell in ws_general[1]:\n",
    "        cell.font = cell.font.copy(bold=True)\n",
    "    \n",
    "    # ======================================================\n",
    "    # Hoja 2: Resumen Coberturas\n",
    "    # ======================================================\n",
    "    ws_resumen = wb.create_sheet(\"Resumen Coberturas\")\n",
    "    \n",
    "    # Preparar datos para resumen\n",
    "    resumen_data = []\n",
    "    for aseguradora in aseguradoras:\n",
    "        if aseguradora in datos_generales:\n",
    "            datos_aseguradora = datos_generales[aseguradora]\n",
    "            resumen_data.append({\n",
    "                \"ID\": cotizacion_id,\n",
    "                \"Aseguradora\": aseguradora,\n",
    "                \"daños_materiales\": len(datos_aseguradora[\"daños_materiales\"]),\n",
    "                \"responsabilidad_civil\": len(datos_aseguradora[\"responsabilidad_civil\"]),\n",
    "                \"gastos_medicos\": len(datos_aseguradora[\"gastos_medicos\"]),\n",
    "                \"tiempo_robo\": datos_aseguradora[\"tiempo_robo\"] if datos_aseguradora[\"tiempo_robo\"] else None\n",
    "            })\n",
    "    \n",
    "    # Crear DataFrame y escribir en hoja\n",
    "    df_resumen = pd.DataFrame(resumen_data)\n",
    "    for r_idx, row in enumerate(dataframe_to_rows(df_resumen, index=False, header=True), 1):\n",
    "        ws_resumen.append(row)\n",
    "    \n",
    "    # Formatear encabezados\n",
    "    for cell in ws_resumen[1]:\n",
    "        cell.font = cell.font.copy(bold=True)\n",
    "    \n",
    "    # ======================================================\n",
    "    # Hoja 3: Daños Materiales\n",
    "    # ======================================================\n",
    "    ws_danios = wb.create_sheet(\"Daños Materiales\")\n",
    "    \n",
    "    # Preparar datos\n",
    "    danios_data = []\n",
    "    for aseguradora in aseguradoras:\n",
    "        if aseguradora in datos_generales:\n",
    "            danios = datos_generales[aseguradora][\"daños_materiales\"]\n",
    "            for cobertura in danios:\n",
    "                danios_data.append({\n",
    "                    \"ID\": cotizacion_id,\n",
    "                    \"Aseguradora\": aseguradora,\n",
    "                    \"Cobertura\": cobertura\n",
    "                })\n",
    "    \n",
    "    # Crear DataFrame y escribir en hoja\n",
    "    df_danios = pd.DataFrame(danios_data)\n",
    "    for r_idx, row in enumerate(dataframe_to_rows(df_danios, index=False, header=True), 1):\n",
    "        ws_danios.append(row)\n",
    "    \n",
    "    # Formatear encabezados\n",
    "    for cell in ws_danios[1]:\n",
    "        cell.font = cell.font.copy(bold=True)\n",
    "    \n",
    "    # ======================================================\n",
    "    # Hoja 4: Tiempo de Robo\n",
    "    # ======================================================\n",
    "    ws_robo = wb.create_sheet(\"Tiempo Robo\")\n",
    "    \n",
    "    # Preparar datos\n",
    "    robo_data = []\n",
    "    for aseguradora in aseguradoras:\n",
    "        if aseguradora in datos_generales:\n",
    "            tiempo = datos_generales[aseguradora][\"tiempo_robo\"]\n",
    "            robo_data.append({\n",
    "                \"ID\": cotizacion_id,\n",
    "                \"Aseguradora\": aseguradora,\n",
    "                \"Tiempo Robo\": tiempo if tiempo else \"No especificado\"\n",
    "            })\n",
    "    \n",
    "    # Crear DataFrame y escribir en hoja\n",
    "    df_robo = pd.DataFrame(robo_data)\n",
    "    for r_idx, row in enumerate(dataframe_to_rows(df_robo, index=False, header=True), 1):\n",
    "        ws_robo.append(row)\n",
    "    \n",
    "    # Formatear encabezados\n",
    "    for cell in ws_robo[1]:\n",
    "        cell.font = cell.font.copy(bold=True)\n",
    "    \n",
    "    # ======================================================\n",
    "    # Hoja 5: Responsabilidad Civil\n",
    "    # ======================================================\n",
    "    ws_responsabilidad = wb.create_sheet(\"Responsabilidad Civil\")\n",
    "    \n",
    "    # Preparar datos\n",
    "    responsabilidad_data = []\n",
    "    for aseguradora in aseguradoras:\n",
    "        if aseguradora in datos_generales:\n",
    "            coberturas = datos_generales[aseguradora][\"responsabilidad_civil\"]\n",
    "            for cobertura in coberturas:\n",
    "                responsabilidad_data.append({\n",
    "                    \"ID\": cotizacion_id,\n",
    "                    \"Aseguradora\": aseguradora,\n",
    "                    \"Cobertura\": cobertura\n",
    "                })\n",
    "    \n",
    "    # Crear DataFrame y escribir en hoja\n",
    "    df_responsabilidad = pd.DataFrame(responsabilidad_data)\n",
    "    for r_idx, row in enumerate(dataframe_to_rows(df_responsabilidad, index=False, header=True), 1):\n",
    "        ws_responsabilidad.append(row)\n",
    "    \n",
    "    # Formatear encabezados\n",
    "    for cell in ws_responsabilidad[1]:\n",
    "        cell.font = cell.font.copy(bold=True)\n",
    "    \n",
    "    # ======================================================\n",
    "    # Hoja 6: Gastos Médicos\n",
    "    # ======================================================\n",
    "    ws_gastos = wb.create_sheet(\"Gastos Médicos\")\n",
    "    \n",
    "    # Preparar datos\n",
    "    gastos_data = []\n",
    "    for aseguradora in aseguradoras:\n",
    "        if aseguradora in datos_generales:\n",
    "            coberturas = datos_generales[aseguradora][\"gastos_medicos\"]\n",
    "            for cobertura in coberturas:\n",
    "                gastos_data.append({\n",
    "                    \"ID\": cotizacion_id,\n",
    "                    \"Aseguradora\": aseguradora,\n",
    "                    \"Cobertura\": cobertura\n",
    "                })\n",
    "    \n",
    "    # Crear DataFrame y escribir en hoja\n",
    "    df_gastos = pd.DataFrame(gastos_data)\n",
    "    for r_idx, row in enumerate(dataframe_to_rows(df_gastos, index=False, header=True), 1):\n",
    "        ws_gastos.append(row)\n",
    "    \n",
    "    # Formatear encabezados\n",
    "    for cell in ws_gastos[1]:\n",
    "        cell.font = cell.font.copy(bold=True)\n",
    "    \n",
    "    # ======================================================\n",
    "    # Eliminar hoja en blanco inicial y guardar\n",
    "    # ======================================================\n",
    "    if \"Sheet\" in wb.sheetnames:\n",
    "        wb.remove(wb[\"Sheet\"])\n",
    "    \n",
    "    # Ajustar ancho de columnas automáticamente\n",
    "    def autoajustar_columnas(ws):\n",
    "        for column in ws.columns:\n",
    "            max_length = 0\n",
    "            column_letter = column[0].column_letter\n",
    "            for cell in column:\n",
    "                try:\n",
    "                    if len(str(cell.value)) > max_length:\n",
    "                        max_length = len(str(cell.value))\n",
    "                except:\n",
    "                    pass\n",
    "            adjusted_width = (max_length + 2)\n",
    "            ws.column_dimensions[column_letter].width = adjusted_width\n",
    "    \n",
    "    # Aplicar a todas las hojas\n",
    "    for sheet in wb.sheetnames:\n",
    "        autoajustar_columnas(wb[sheet])\n",
    "    \n",
    "    wb.save(output_file)\n",
    "    return output_file"
   ]
  },
  {
   "cell_type": "code",
   "execution_count": 49,
   "id": "7e3aa759",
   "metadata": {},
   "outputs": [
    {
     "name": "stderr",
     "output_type": "stream",
     "text": [
      "/tmp/ipykernel_115905/2313050785.py:56: DeprecationWarning: Call to deprecated function copy (Use copy(obj) or cell.obj = cell.obj + other).\n",
      "  cell.font = cell.font.copy(bold=True)\n",
      "/tmp/ipykernel_115905/2313050785.py:84: DeprecationWarning: Call to deprecated function copy (Use copy(obj) or cell.obj = cell.obj + other).\n",
      "  cell.font = cell.font.copy(bold=True)\n",
      "/tmp/ipykernel_115905/2313050785.py:110: DeprecationWarning: Call to deprecated function copy (Use copy(obj) or cell.obj = cell.obj + other).\n",
      "  cell.font = cell.font.copy(bold=True)\n",
      "/tmp/ipykernel_115905/2313050785.py:135: DeprecationWarning: Call to deprecated function copy (Use copy(obj) or cell.obj = cell.obj + other).\n",
      "  cell.font = cell.font.copy(bold=True)\n",
      "/tmp/ipykernel_115905/2313050785.py:161: DeprecationWarning: Call to deprecated function copy (Use copy(obj) or cell.obj = cell.obj + other).\n",
      "  cell.font = cell.font.copy(bold=True)\n",
      "/tmp/ipykernel_115905/2313050785.py:187: DeprecationWarning: Call to deprecated function copy (Use copy(obj) or cell.obj = cell.obj + other).\n",
      "  cell.font = cell.font.copy(bold=True)\n"
     ]
    },
    {
     "data": {
      "text/html": [
       "<pre style=\"white-space:pre;overflow-x:auto;line-height:normal;font-family:Menlo,'DejaVu Sans Mono',consolas,'Courier New',monospace\">Archivo Excel generado: reporte_seguros_2.xlsx\n",
       "</pre>\n"
      ],
      "text/plain": [
       "Archivo Excel generado: reporte_seguros_2.xlsx\n"
      ]
     },
     "metadata": {},
     "output_type": "display_data"
    }
   ],
   "source": [
    "with open('../src/assets/2_elementos.json', 'r', encoding='utf-8') as f:\n",
    "    datos = json.load(f)\n",
    "\n",
    "# Generar Excel\n",
    "archivo_excel = json_to_excel(datos, \"reporte_seguros_2.xlsx\")\n",
    "print(f\"Archivo Excel generado: {archivo_excel}\")"
   ]
  }
 ],
 "metadata": {
  "kernelspec": {
   "display_name": "venv",
   "language": "python",
   "name": "python3"
  },
  "language_info": {
   "codemirror_mode": {
    "name": "ipython",
    "version": 3
   },
   "file_extension": ".py",
   "mimetype": "text/x-python",
   "name": "python",
   "nbconvert_exporter": "python",
   "pygments_lexer": "ipython3",
   "version": "3.11.12"
  }
 },
 "nbformat": 4,
 "nbformat_minor": 5
}
